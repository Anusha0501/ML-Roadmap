{
  "cells": [
    {
      "cell_type": "code",
      "execution_count": null,
      "metadata": {
        "colab": {
          "base_uri": "https://localhost:8080/"
        },
        "id": "ycAxBz-LMiNn",
        "outputId": "6745dd85-5e84-4797-b9f1-0019015f4874"
      },
      "outputs": [
        {
          "name": "stdout",
          "output_type": "stream",
          "text": [
            "Hello World\n"
          ]
        }
      ],
      "source": [
        "# Python is Case-Sensitive\n",
        "\n",
        "print(\"Hello World\")"
      ]
    },
    {
      "cell_type": "code",
      "execution_count": null,
      "metadata": {
        "colab": {
          "base_uri": "https://localhost:8080/"
        },
        "id": "cJuYMP_oNIcH",
        "outputId": "33a7aee9-1cf6-494b-b36c-169ee045eb5a"
      },
      "outputs": [
        {
          "name": "stdout",
          "output_type": "stream",
          "text": [
            "6\n"
          ]
        }
      ],
      "source": [
        "print(6)"
      ]
    },
    {
      "cell_type": "code",
      "execution_count": null,
      "metadata": {
        "colab": {
          "base_uri": "https://localhost:8080/"
        },
        "id": "CpPYimSHNLyu",
        "outputId": "d306db09-16d7-49fa-97ea-c131a4915c55"
      },
      "outputs": [
        {
          "name": "stdout",
          "output_type": "stream",
          "text": [
            "5.6\n"
          ]
        }
      ],
      "source": [
        "print(5.6)"
      ]
    },
    {
      "cell_type": "code",
      "execution_count": null,
      "metadata": {
        "colab": {
          "base_uri": "https://localhost:8080/"
        },
        "id": "56Zt2mq_NOD6",
        "outputId": "54cf8361-bc1e-462b-9132-ff61e363f392"
      },
      "outputs": [
        {
          "name": "stdout",
          "output_type": "stream",
          "text": [
            "False\n"
          ]
        }
      ],
      "source": [
        "print(False)"
      ]
    },
    {
      "cell_type": "code",
      "execution_count": null,
      "metadata": {
        "colab": {
          "base_uri": "https://localhost:8080/"
        },
        "id": "rNM7tNg9NQjN",
        "outputId": "9fc7acaa-3bb1-4546-ef1f-4bc4e292b09a"
      },
      "outputs": [
        {
          "name": "stdout",
          "output_type": "stream",
          "text": [
            "India Pakistan Nepal Srilanka\n"
          ]
        }
      ],
      "source": [
        "print(\"India\", \"Pakistan\", \"Nepal\", \"Srilanka\")"
      ]
    },
    {
      "cell_type": "code",
      "execution_count": null,
      "metadata": {
        "colab": {
          "base_uri": "https://localhost:8080/"
        },
        "id": "Bgq3IUA8NUJR",
        "outputId": "73e4648d-9881-445d-e132-42382018d4d6"
      },
      "outputs": [
        {
          "name": "stdout",
          "output_type": "stream",
          "text": [
            "India 5 True\n"
          ]
        }
      ],
      "source": [
        "print(\"India\", 5, True)"
      ]
    },
    {
      "cell_type": "code",
      "execution_count": null,
      "metadata": {
        "colab": {
          "base_uri": "https://localhost:8080/"
        },
        "id": "h9TJlLIcNXrh",
        "outputId": "63a40bd1-15cd-43c8-ea54-9e8af80c735a"
      },
      "outputs": [
        {
          "name": "stdout",
          "output_type": "stream",
          "text": [
            "India/Pakistan/Nepal/Srilanka\n"
          ]
        }
      ],
      "source": [
        "print(\"India\", \"Pakistan\", \"Nepal\", \"Srilanka\", sep='/')"
      ]
    },
    {
      "cell_type": "code",
      "execution_count": null,
      "metadata": {
        "colab": {
          "base_uri": "https://localhost:8080/"
        },
        "id": "KZVVAFtQNaQl",
        "outputId": "88db4d28-6ea8-4e9f-ea35-0b16a716518b"
      },
      "outputs": [
        {
          "name": "stdout",
          "output_type": "stream",
          "text": [
            "India-Pakistan-Nepal-Srilanka\n"
          ]
        }
      ],
      "source": [
        "print(\"India\", \"Pakistan\", \"Nepal\", \"Srilanka\", sep='-')"
      ]
    },
    {
      "cell_type": "code",
      "execution_count": null,
      "metadata": {
        "colab": {
          "base_uri": "https://localhost:8080/"
        },
        "id": "XDpPag3BNc_f",
        "outputId": "5ff712ce-7e2e-476d-ecd9-9d7bc5fdbb23"
      },
      "outputs": [
        {
          "name": "stdout",
          "output_type": "stream",
          "text": [
            "Hello\n",
            "World\n"
          ]
        }
      ],
      "source": [
        "print(\"Hello\")\n",
        "print(\"World\")"
      ]
    },
    {
      "cell_type": "code",
      "execution_count": null,
      "metadata": {
        "colab": {
          "base_uri": "https://localhost:8080/"
        },
        "id": "90KP7RznNf2e",
        "outputId": "3415e777-abdb-446e-d996-cd864c84cdee"
      },
      "outputs": [
        {
          "name": "stdout",
          "output_type": "stream",
          "text": [
            "Hello World\n"
          ]
        }
      ],
      "source": [
        "print(\"Hello\", end=' ')\n",
        "print(\"World\")"
      ]
    },
    {
      "cell_type": "markdown",
      "metadata": {
        "id": "YtQ5jMQbNnbW"
      },
      "source": [
        "# **Python Data Types Categories**"
      ]
    },
    {
      "cell_type": "markdown",
      "metadata": {
        "id": "4KlW5-uPNs5x"
      },
      "source": [
        "## Basic Types:\n",
        "\n",
        "Int: Whole nums (1, 2, 3).\n",
        "\n",
        "Float: Decimals (3.14, 2.5).\n",
        "\n",
        "Complex: Real+Imag (1 + 2j).\n",
        "\n",
        "Bool: True/False.\n",
        "\n",
        "Str: Text (\"hello\")."
      ]
    },
    {
      "cell_type": "markdown",
      "metadata": {
        "id": "I4rghT6mAr3v"
      },
      "source": [
        "## Container Types:"
      ]
    },
    {
      "cell_type": "markdown",
      "metadata": {
        "id": "bwsCIDEgAwzF"
      },
      "source": [
        "List: Ordered items.\n",
        "[1, 2, 3]\n",
        "\n",
        "Tuple: Ordered, immutable.\n",
        "(1, 2, 3)\n",
        "\n",
        "Set: Unordered, unique.\n",
        "{1, 2, 3}\n",
        "\n",
        "Dict: Key-value pairs.\n",
        "{'k1': 'v1', 'k2': 'v2'}"
      ]
    },
    {
      "cell_type": "markdown",
      "metadata": {
        "id": "FpViq59AA97h"
      },
      "source": [
        "## User-Defined Types:"
      ]
    },
    {
      "cell_type": "markdown",
      "metadata": {
        "id": "3CLcyJENBEO7"
      },
      "source": [
        "Class: Obj blueprint."
      ]
    },
    {
      "cell_type": "markdown",
      "metadata": {
        "id": "NFMkDF95BOzC"
      },
      "source": [
        "# **int**"
      ]
    },
    {
      "cell_type": "code",
      "execution_count": null,
      "metadata": {
        "colab": {
          "base_uri": "https://localhost:8080/"
        },
        "id": "pK3arzikNix8",
        "outputId": "e19384e8-9112-42c1-b5b8-e9a54dd0083b"
      },
      "outputs": [
        {
          "name": "stdout",
          "output_type": "stream",
          "text": [
            "4\n",
            "1e+308\n",
            "inf\n"
          ]
        }
      ],
      "source": [
        "# Numbers\n",
        "print(4)\n",
        "\n",
        "# Large Numbers\n",
        "print(1e308)  # 1 * 10^308\n",
        "print(1e309)  # 'inf' (exceeds float limit)"
      ]
    },
    {
      "cell_type": "markdown",
      "metadata": {
        "id": "aUbwrQi8BWSN"
      },
      "source": [
        "# **bool**"
      ]
    },
    {
      "cell_type": "code",
      "execution_count": null,
      "metadata": {
        "colab": {
          "base_uri": "https://localhost:8080/"
        },
        "id": "K1oRmwXlBT5m",
        "outputId": "df7a5c8e-c75c-40be-8577-e3f5653a8f66"
      },
      "outputs": [
        {
          "name": "stdout",
          "output_type": "stream",
          "text": [
            "True\n",
            "False\n"
          ]
        }
      ],
      "source": [
        "# Boolean Values\n",
        "print(True)\n",
        "print(False)"
      ]
    },
    {
      "cell_type": "markdown",
      "metadata": {
        "id": "otgI6DLGCJDK"
      },
      "source": [
        "# **complex**"
      ]
    },
    {
      "cell_type": "code",
      "execution_count": null,
      "metadata": {
        "colab": {
          "base_uri": "https://localhost:8080/"
        },
        "id": "8sKHVgvUBayM",
        "outputId": "6003a055-b512-4531-ab4e-74040dbeeb32"
      },
      "outputs": [
        {
          "name": "stdout",
          "output_type": "stream",
          "text": [
            "(4+5j)\n"
          ]
        }
      ],
      "source": [
        "# Complex Number\n",
        "print(4 + 5j)"
      ]
    },
    {
      "cell_type": "markdown",
      "metadata": {
        "id": "0US67GvDCSf6"
      },
      "source": [
        "# **str**"
      ]
    },
    {
      "cell_type": "code",
      "execution_count": null,
      "metadata": {
        "colab": {
          "base_uri": "https://localhost:8080/"
        },
        "id": "wX_f7tL0BeoJ",
        "outputId": "fe50990b-bedf-4ed8-841d-2a894dccee47"
      },
      "outputs": [
        {
          "name": "stdout",
          "output_type": "stream",
          "text": [
            "Kolkata\n",
            "Kolkata\n",
            "Kolkata\n",
            "Kolkata\n"
          ]
        }
      ],
      "source": [
        "# Strings with Different Quotation Styles\n",
        "print('Kolkata')       # single quotes\n",
        "print(\"Kolkata\")       # double quotes\n",
        "print('''Kolkata''')   # triple single quotes\n",
        "print(\"\"\"Kolkata\"\"\")   # triple double quotes"
      ]
    },
    {
      "cell_type": "markdown",
      "metadata": {
        "id": "EnYp_oexCXXI"
      },
      "source": [
        "# **list**"
      ]
    },
    {
      "cell_type": "code",
      "execution_count": null,
      "metadata": {
        "colab": {
          "base_uri": "https://localhost:8080/"
        },
        "id": "yB6fmg0hBhZJ",
        "outputId": "9c92d50b-a6df-49ae-86db-37a027836480"
      },
      "outputs": [
        {
          "name": "stdout",
          "output_type": "stream",
          "text": [
            "[1, 2, 3, 4, 5]\n"
          ]
        }
      ],
      "source": [
        "# List\n",
        "print([1, 2, 3, 4, 5])"
      ]
    },
    {
      "cell_type": "markdown",
      "metadata": {
        "id": "01g8EprCCbN_"
      },
      "source": [
        "# **tuple**"
      ]
    },
    {
      "cell_type": "code",
      "execution_count": null,
      "metadata": {
        "colab": {
          "base_uri": "https://localhost:8080/"
        },
        "id": "kFu6VNOVBkPe",
        "outputId": "7d73b61c-d6ec-4af6-a12c-0cd93ad0fcc9"
      },
      "outputs": [
        {
          "name": "stdout",
          "output_type": "stream",
          "text": [
            "(1, 2, 3, 4, 5)\n"
          ]
        }
      ],
      "source": [
        "# Tuple\n",
        "print((1, 2, 3, 4, 5))"
      ]
    },
    {
      "cell_type": "markdown",
      "metadata": {
        "id": "yDb41YqnCgQY"
      },
      "source": [
        "# **set**"
      ]
    },
    {
      "cell_type": "code",
      "execution_count": null,
      "metadata": {
        "colab": {
          "base_uri": "https://localhost:8080/"
        },
        "id": "1Pd-wNVmBm6J",
        "outputId": "2c3eca8a-39f0-44a8-f6b5-7b188f80b7dd"
      },
      "outputs": [
        {
          "name": "stdout",
          "output_type": "stream",
          "text": [
            "{1, 2, 3, 4, 5}\n"
          ]
        }
      ],
      "source": [
        "# Set\n",
        "print({1, 2, 3, 4, 5})"
      ]
    },
    {
      "cell_type": "markdown",
      "metadata": {
        "id": "d9BNm6i_Cjsf"
      },
      "source": [
        "# **dict**"
      ]
    },
    {
      "cell_type": "code",
      "execution_count": null,
      "metadata": {
        "colab": {
          "base_uri": "https://localhost:8080/"
        },
        "id": "UhJqYQvwBpH3",
        "outputId": "7e25d82d-6285-4ac5-9bcd-0a123b30f5b3"
      },
      "outputs": [
        {
          "name": "stdout",
          "output_type": "stream",
          "text": [
            "{'Name': 'Saurabh', 'Age': 22, 'Gender': 'Male'}\n"
          ]
        }
      ],
      "source": [
        "# Dictionary\n",
        "print({\"Name\": \"Saurabh\", \"Age\": 22, \"Gender\": \"Male\"})"
      ]
    },
    {
      "cell_type": "code",
      "execution_count": null,
      "metadata": {
        "id": "tbDw0usgBrqz"
      },
      "outputs": [],
      "source": [
        "# this is a comment"
      ]
    },
    {
      "cell_type": "markdown",
      "metadata": {
        "id": "74jlEuTbhqBf"
      },
      "source": [
        "#Static vs Dynamic Typing:\n",
        "\n",
        "Dynamic Typing (Python): Types change during execution.\n",
        "\n",
        "Static Typing: Fixed types before runtime.\n",
        "\n",
        "#Static vs Dynamic Binding:\n",
        "\n",
        "Static Binding: Types fixed at compile-time.\n",
        "\n",
        "Dynamic Binding: Types associated at runtime, changeable during execution.\n",
        "\n",
        "#Stylish Declaration Techniques:\n",
        "\n",
        "Clear, efficient variable/structure declarations in Python.\n",
        "\n",
        "Use Python's flexibility for concise, readable code."
      ]
    },
    {
      "cell_type": "code",
      "execution_count": null,
      "metadata": {
        "id": "f7c4Scr7hDEP"
      },
      "outputs": [],
      "source": [
        "# c\n",
        "a = 5"
      ]
    },
    {
      "cell_type": "code",
      "execution_count": null,
      "metadata": {
        "id": "owp-COfyUKaW"
      },
      "outputs": [],
      "source": [
        "name = 'Saurabh'"
      ]
    },
    {
      "cell_type": "code",
      "execution_count": null,
      "metadata": {
        "colab": {
          "base_uri": "https://localhost:8080/"
        },
        "id": "jnwykH7tUN5w",
        "outputId": "104edd08-9ad4-4930-96fd-e83b9135cfa3"
      },
      "outputs": [
        {
          "name": "stdout",
          "output_type": "stream",
          "text": [
            "Hello World\n"
          ]
        }
      ],
      "source": [
        "name = 'Hello World'\n",
        "print(name)"
      ]
    },
    {
      "cell_type": "markdown",
      "metadata": {
        "id": "a53PunFKUwKo"
      },
      "source": [
        "#No Var Decl in Python\n",
        "\n",
        "Use vars w/o prior decl.\n",
        "\n",
        "Assign val directly; Python auto-creates."
      ]
    },
    {
      "cell_type": "code",
      "execution_count": null,
      "metadata": {
        "colab": {
          "base_uri": "https://localhost:8080/",
          "height": 106
        },
        "id": "36Fjky2MUsMf",
        "outputId": "a6b86919-ebce-4c7d-d2db-4d94fa66c867"
      },
      "outputs": [
        {
          "ename": "SyntaxError",
          "evalue": "invalid syntax (<ipython-input-10-bf0ab8e5d91f>, line 2)",
          "output_type": "error",
          "traceback": [
            "\u001b[0;36m  File \u001b[0;32m\"<ipython-input-10-bf0ab8e5d91f>\"\u001b[0;36m, line \u001b[0;32m2\u001b[0m\n\u001b[0;31m    $a = 5;\u001b[0m\n\u001b[0m    ^\u001b[0m\n\u001b[0;31mSyntaxError\u001b[0m\u001b[0;31m:\u001b[0m invalid syntax\n"
          ]
        }
      ],
      "source": [
        "# Dynamic Typing (PHP)\n",
        "$a = 5;\n",
        "\n",
        "# Static Typing (Java)\n",
        "a = 5;"
      ]
    },
    {
      "cell_type": "code",
      "execution_count": null,
      "metadata": {
        "colab": {
          "base_uri": "https://localhost:8080/"
        },
        "id": "nIjhz3MVU3CM",
        "outputId": "490f99ea-cd75-42e2-d2bc-93527fa73708"
      },
      "outputs": [
        {
          "name": "stdout",
          "output_type": "stream",
          "text": [
            "Hello World\n"
          ]
        }
      ],
      "source": [
        "print(name)"
      ]
    },
    {
      "cell_type": "code",
      "execution_count": null,
      "metadata": {
        "colab": {
          "base_uri": "https://localhost:8080/"
        },
        "id": "bwmB0n9IVSVR",
        "outputId": "ae7e0559-23e9-4100-829d-f65fffdc9d97"
      },
      "outputs": [
        {
          "name": "stdout",
          "output_type": "stream",
          "text": [
            "4\n"
          ]
        }
      ],
      "source": [
        "name = 4\n",
        "print(name)"
      ]
    },
    {
      "cell_type": "code",
      "execution_count": null,
      "metadata": {
        "colab": {
          "base_uri": "https://localhost:8080/"
        },
        "id": "05_vHHtZVVKZ",
        "outputId": "d3cf1748-433a-41a9-8cbb-8f9e8494a2b5"
      },
      "outputs": [
        {
          "name": "stdout",
          "output_type": "stream",
          "text": [
            "True\n"
          ]
        }
      ],
      "source": [
        "name = True\n",
        "print(name)"
      ]
    },
    {
      "cell_type": "code",
      "execution_count": null,
      "metadata": {
        "colab": {
          "base_uri": "https://localhost:8080/"
        },
        "id": "cnxk8FRdVXgl",
        "outputId": "44d18a7d-7e27-42c6-f278-6882ce174d06"
      },
      "outputs": [
        {
          "name": "stdout",
          "output_type": "stream",
          "text": [
            "5\n",
            "nitish\n"
          ]
        }
      ],
      "source": [
        "# Dynamic Binding Example\n",
        "a = 5          # Assign integer\n",
        "print(a)\n",
        "\n",
        "a = 'nitish'   # Reassign string\n",
        "print(a)"
      ]
    },
    {
      "cell_type": "code",
      "execution_count": null,
      "metadata": {
        "id": "pVnui2BIVZ47"
      },
      "outputs": [],
      "source": [
        "# Static Binding Example\n",
        "a = 5"
      ]
    },
    {
      "cell_type": "code",
      "execution_count": null,
      "metadata": {
        "colab": {
          "base_uri": "https://localhost:8080/"
        },
        "id": "0eX7A6shVcio",
        "outputId": "4a1229cb-578d-4352-afbd-2e22a677554a"
      },
      "outputs": [
        {
          "name": "stdout",
          "output_type": "stream",
          "text": [
            "5\n",
            "6\n",
            "7\n"
          ]
        }
      ],
      "source": [
        "# Special Syntax\n",
        "a = 5; b = 6; c = 7\n",
        "\n",
        "print(a)\n",
        "print(b)\n",
        "print(c)"
      ]
    },
    {
      "cell_type": "code",
      "execution_count": null,
      "metadata": {
        "colab": {
          "base_uri": "https://localhost:8080/"
        },
        "id": "kZEGt8bWViJ5",
        "outputId": "3ba1f5fd-57f7-43de-a3cd-94dd2a63f379"
      },
      "outputs": [
        {
          "name": "stdout",
          "output_type": "stream",
          "text": [
            "5\n",
            "6\n",
            "7\n"
          ]
        }
      ],
      "source": [
        "a, b, c = 5, 6, 7\n",
        "\n",
        "print(a)\n",
        "print(b)\n",
        "print(c)"
      ]
    },
    {
      "cell_type": "code",
      "execution_count": null,
      "metadata": {
        "colab": {
          "base_uri": "https://localhost:8080/"
        },
        "id": "8s0URloxVkqP",
        "outputId": "8984c427-fdd7-48e2-f8fb-393d126d5e8b"
      },
      "outputs": [
        {
          "name": "stdout",
          "output_type": "stream",
          "text": [
            "6 6 6\n"
          ]
        }
      ],
      "source": [
        "a = b = c = 6\n",
        "\n",
        "print(a, b, c)"
      ]
    },
    {
      "cell_type": "markdown",
      "metadata": {
        "id": "OPM3PXBFV1G-"
      },
      "source": [
        "#Keywords\n",
        "##Python is case sensitive\n",
        "\n",
        "Keywords: reserved words, special meanings\n",
        "\n",
        "Cannot use as variable names"
      ]
    },
    {
      "cell_type": "code",
      "execution_count": null,
      "metadata": {
        "colab": {
          "base_uri": "https://localhost:8080/"
        },
        "id": "rQe8HO1BVm_v",
        "outputId": "0a9d3fe3-3704-4816-e1d9-46f53e783e91"
      },
      "outputs": [
        {
          "name": "stdout",
          "output_type": "stream",
          "text": [
            "['False', 'None', 'True', 'and', 'as', 'assert', 'async', 'await', 'break', 'class', 'continue', 'def', 'del', 'elif', 'else', 'except', 'finally', 'for', 'from', 'global', 'if', 'import', 'in', 'is', 'lambda', 'nonlocal', 'not', 'or', 'pass', 'raise', 'return', 'try', 'while', 'with', 'yield']\n"
          ]
        }
      ],
      "source": [
        "# Python has 33 keywords.\n",
        "import keyword\n",
        "print(keyword.kwlist)"
      ]
    },
    {
      "cell_type": "markdown",
      "metadata": {
        "id": "Bc9POuW4Wkp6"
      },
      "source": [
        "#Identifiers\n",
        "Identifier are name for var, func, class, module, etc.\n",
        "\n",
        "##Rules:\n",
        "\n",
        "Start with letter or _\n",
        "\n",
        "Followed by letters, digits, _\n",
        "\n",
        "Not a Python keyword"
      ]
    },
    {
      "cell_type": "code",
      "execution_count": null,
      "metadata": {
        "colab": {
          "base_uri": "https://localhost:8080/"
        },
        "id": "8_wfvqvdV8sF",
        "outputId": "4952b611-e3e4-44e5-c154-11c02da377f6"
      },
      "outputs": [
        {
          "name": "stdout",
          "output_type": "stream",
          "text": [
            "Saurabh\n"
          ]
        }
      ],
      "source": [
        "name = 'Saurabh'\n",
        "print(name)"
      ]
    },
    {
      "cell_type": "code",
      "execution_count": null,
      "metadata": {
        "colab": {
          "base_uri": "https://localhost:8080/"
        },
        "id": "c1LpLC7pWyXc",
        "outputId": "6934eb94-7c1f-4206-ca31-c662b22c716d"
      },
      "outputs": [
        {
          "name": "stdout",
          "output_type": "stream",
          "text": [
            "Saurabh\n"
          ]
        }
      ],
      "source": [
        "_ = 'Saurabh'\n",
        "print(_)"
      ]
    },
    {
      "cell_type": "code",
      "execution_count": null,
      "metadata": {
        "colab": {
          "base_uri": "https://localhost:8080/"
        },
        "id": "FpGiJteYW0bO",
        "outputId": "456c40a2-e648-4dec-aa06-7df73df9b601"
      },
      "outputs": [
        {
          "name": "stdout",
          "output_type": "stream",
          "text": [
            "Saurabh\n"
          ]
        }
      ],
      "source": [
        "first_name = 'Saurabh'\n",
        "print(first_name)"
      ]
    },
    {
      "cell_type": "code",
      "execution_count": null,
      "metadata": {
        "colab": {
          "base_uri": "https://localhost:8080/",
          "height": 106
        },
        "id": "LgzTDVgiW2jF",
        "outputId": "29d37f58-7c5f-488a-87ee-3194f35a76a9"
      },
      "outputs": [
        {
          "ename": "SyntaxError",
          "evalue": "cannot assign to False (<ipython-input-24-bd9c1887d726>, line 1)",
          "output_type": "error",
          "traceback": [
            "\u001b[0;36m  File \u001b[0;32m\"<ipython-input-24-bd9c1887d726>\"\u001b[0;36m, line \u001b[0;32m1\u001b[0m\n\u001b[0;31m    False = 'Saurabh'\u001b[0m\n\u001b[0m    ^\u001b[0m\n\u001b[0;31mSyntaxError\u001b[0m\u001b[0;31m:\u001b[0m cannot assign to False\n"
          ]
        }
      ],
      "source": [
        "False = 'Saurabh'\n",
        "print(False)"
      ]
    },
    {
      "cell_type": "markdown",
      "metadata": {
        "id": "O1NZqJhjGoTH"
      },
      "source": [
        "# **User Input**"
      ]
    },
    {
      "cell_type": "code",
      "execution_count": null,
      "metadata": {
        "colab": {
          "base_uri": "https://localhost:8080/",
          "height": 52
        },
        "id": "yzkxveDUW4zr",
        "outputId": "3745ee52-46c1-47fc-d7e6-e7affd91d4b3"
      },
      "outputs": [
        {
          "name": "stdout",
          "output_type": "stream",
          "text": [
            "Enter Emailanusha.22cse@bmu.edu.in\n"
          ]
        },
        {
          "data": {
            "application/vnd.google.colaboratory.intrinsic+json": {
              "type": "string"
            },
            "text/plain": [
              "'anusha.22cse@bmu.edu.in'"
            ]
          },
          "execution_count": 1,
          "metadata": {},
          "output_type": "execute_result"
        }
      ],
      "source": [
        "# Static vs Dynamic\n",
        "input('Enter Email')"
      ]
    },
    {
      "cell_type": "code",
      "execution_count": null,
      "metadata": {
        "colab": {
          "base_uri": "https://localhost:8080/"
        },
        "id": "EX995WtVGtjt",
        "outputId": "e05dcc8f-eec7-49d1-8850-a57acc7a04cd"
      },
      "outputs": [
        {
          "name": "stdout",
          "output_type": "stream",
          "text": [
            "Enter your age: 20\n"
          ]
        }
      ],
      "source": [
        "# Input from user\n",
        "age = input(\"Enter your age: \")"
      ]
    },
    {
      "cell_type": "code",
      "execution_count": null,
      "metadata": {
        "colab": {
          "base_uri": "https://localhost:8080/"
        },
        "id": "2XeIaka6GwEZ",
        "outputId": "234168df-f058-4dca-9893-7470620b79b8"
      },
      "outputs": [
        {
          "name": "stdout",
          "output_type": "stream",
          "text": [
            "Enter first number: 1\n",
            "Enter second number: 2\n"
          ]
        }
      ],
      "source": [
        "first_num = int(input(\"Enter first number: \"))\n",
        "second_num = int(input(\"Enter second number: \"))"
      ]
    },
    {
      "cell_type": "code",
      "execution_count": null,
      "metadata": {
        "colab": {
          "base_uri": "https://localhost:8080/"
        },
        "id": "WX024TNCGzRe",
        "outputId": "5f675d94-cfd2-4599-90cd-03291b94a427"
      },
      "outputs": [
        {
          "name": "stdout",
          "output_type": "stream",
          "text": [
            "1\n",
            "2\n"
          ]
        }
      ],
      "source": [
        "print(first_num)\n",
        "print(second_num)"
      ]
    },
    {
      "cell_type": "code",
      "execution_count": null,
      "metadata": {
        "colab": {
          "base_uri": "https://localhost:8080/"
        },
        "id": "uRpU7MA9G2Xb",
        "outputId": "5e227353-60ab-4d72-f8d1-283c8f452a73"
      },
      "outputs": [
        {
          "name": "stdout",
          "output_type": "stream",
          "text": [
            "3\n"
          ]
        }
      ],
      "source": [
        "result = first_num + second_num\n",
        "print(result)"
      ]
    },
    {
      "cell_type": "code",
      "execution_count": null,
      "metadata": {
        "colab": {
          "base_uri": "https://localhost:8080/"
        },
        "id": "E1tna-x-HAvC",
        "outputId": "184a0a47-b20f-4bd0-a2c1-30e409ee3fd8"
      },
      "outputs": [
        {
          "data": {
            "text/plain": [
              "int"
            ]
          },
          "execution_count": 6,
          "metadata": {},
          "output_type": "execute_result"
        }
      ],
      "source": [
        "# type() function\n",
        "type(4)"
      ]
    },
    {
      "cell_type": "code",
      "execution_count": null,
      "metadata": {
        "colab": {
          "base_uri": "https://localhost:8080/"
        },
        "id": "VmchWgkpHEG1",
        "outputId": "00c100f4-a79a-4e18-bb38-de5bc74f4e86"
      },
      "outputs": [
        {
          "data": {
            "text/plain": [
              "int"
            ]
          },
          "execution_count": 7,
          "metadata": {},
          "output_type": "execute_result"
        }
      ],
      "source": [
        "type(first_num)"
      ]
    },
    {
      "cell_type": "code",
      "execution_count": null,
      "metadata": {
        "colab": {
          "base_uri": "https://localhost:8080/"
        },
        "id": "K54zbB_jHGjd",
        "outputId": "fa109478-192d-4f4d-9cd6-2ad055e05f7c"
      },
      "outputs": [
        {
          "data": {
            "text/plain": [
              "1"
            ]
          },
          "execution_count": 8,
          "metadata": {},
          "output_type": "execute_result"
        }
      ],
      "source": [
        "first_num"
      ]
    },
    {
      "cell_type": "code",
      "execution_count": null,
      "metadata": {
        "colab": {
          "base_uri": "https://localhost:8080/"
        },
        "id": "s_wtgJsUHJED",
        "outputId": "5812111c-94d8-49d5-fae1-31f6ad1b3f10"
      },
      "outputs": [
        {
          "data": {
            "text/plain": [
              "9.5"
            ]
          },
          "execution_count": 9,
          "metadata": {},
          "output_type": "execute_result"
        }
      ],
      "source": [
        "4 + 5.5"
      ]
    },
    {
      "cell_type": "code",
      "execution_count": null,
      "metadata": {
        "colab": {
          "base_uri": "https://localhost:8080/"
        },
        "id": "ALoZbkGhHLVo",
        "outputId": "6294fb5a-faac-4822-dab8-fc8aa279379f"
      },
      "outputs": [
        {
          "data": {
            "text/plain": [
              "(11+7j)"
            ]
          },
          "execution_count": 10,
          "metadata": {},
          "output_type": "execute_result"
        }
      ],
      "source": [
        "5 + 6+7j"
      ]
    },
    {
      "cell_type": "code",
      "execution_count": null,
      "metadata": {
        "colab": {
          "base_uri": "https://localhost:8080/"
        },
        "id": "ZwDEFqZgHNWl",
        "outputId": "e34b97d6-9533-4773-f2a2-ddd8720972ff"
      },
      "outputs": [
        {
          "data": {
            "text/plain": [
              "(9.5+5j)"
            ]
          },
          "execution_count": 11,
          "metadata": {},
          "output_type": "execute_result"
        }
      ],
      "source": [
        "4.5 + 5+5j"
      ]
    },
    {
      "cell_type": "code",
      "execution_count": null,
      "metadata": {
        "colab": {
          "base_uri": "https://localhost:8080/"
        },
        "id": "tujnPlxBHPob",
        "outputId": "7815d50d-53a9-4e5e-e39b-5792e395363c"
      },
      "outputs": [
        {
          "data": {
            "text/plain": [
              "3"
            ]
          },
          "execution_count": 12,
          "metadata": {},
          "output_type": "execute_result"
        }
      ],
      "source": [
        "first_num + second_num"
      ]
    },
    {
      "cell_type": "markdown",
      "metadata": {
        "id": "uYgckMNvHUQ1"
      },
      "source": [
        "# **Type Conversion**"
      ]
    },
    {
      "cell_type": "markdown",
      "metadata": {
        "id": "U4mf56mbHY7j"
      },
      "source": [
        "Implicit: Auto type conversion by language.\n",
        "\n",
        "Explicit: Manual type conversion using functions/methods."
      ]
    },
    {
      "cell_type": "code",
      "execution_count": null,
      "metadata": {
        "colab": {
          "base_uri": "https://localhost:8080/",
          "height": 210
        },
        "id": "sJ9WRACOHSLI",
        "outputId": "5bf4966e-7d3e-4cbd-b5e6-5324b154e08c"
      },
      "outputs": [
        {
          "name": "stdout",
          "output_type": "stream",
          "text": [
            "10.6\n",
            "<class 'int'> <class 'float'>\n"
          ]
        },
        {
          "ename": "TypeError",
          "evalue": "unsupported operand type(s) for +: 'int' and 'str'",
          "output_type": "error",
          "traceback": [
            "\u001b[0;31m---------------------------------------------------------------------------\u001b[0m",
            "\u001b[0;31mTypeError\u001b[0m                                 Traceback (most recent call last)",
            "\u001b[0;32m<ipython-input-13-e9ba25b6ee59>\u001b[0m in \u001b[0;36m<cell line: 0>\u001b[0;34m()\u001b[0m\n\u001b[1;32m      2\u001b[0m \u001b[0mprint\u001b[0m\u001b[0;34m(\u001b[0m\u001b[0;36m5\u001b[0m \u001b[0;34m+\u001b[0m \u001b[0;36m5.6\u001b[0m\u001b[0;34m)\u001b[0m            \u001b[0;31m# Implicit: int + float → float\u001b[0m\u001b[0;34m\u001b[0m\u001b[0;34m\u001b[0m\u001b[0m\n\u001b[1;32m      3\u001b[0m \u001b[0mprint\u001b[0m\u001b[0;34m(\u001b[0m\u001b[0mtype\u001b[0m\u001b[0;34m(\u001b[0m\u001b[0;36m5\u001b[0m\u001b[0;34m)\u001b[0m\u001b[0;34m,\u001b[0m \u001b[0mtype\u001b[0m\u001b[0;34m(\u001b[0m\u001b[0;36m5.6\u001b[0m\u001b[0;34m)\u001b[0m\u001b[0;34m)\u001b[0m \u001b[0;31m# Show types: int, float\u001b[0m\u001b[0;34m\u001b[0m\u001b[0;34m\u001b[0m\u001b[0m\n\u001b[0;32m----> 4\u001b[0;31m \u001b[0mprint\u001b[0m\u001b[0;34m(\u001b[0m\u001b[0;36m4\u001b[0m \u001b[0;34m+\u001b[0m \u001b[0;34m'4'\u001b[0m\u001b[0;34m)\u001b[0m            \u001b[0;31m# Error: no implicit int + str\u001b[0m\u001b[0;34m\u001b[0m\u001b[0;34m\u001b[0m\u001b[0m\n\u001b[0m",
            "\u001b[0;31mTypeError\u001b[0m: unsupported operand type(s) for +: 'int' and 'str'"
          ]
        }
      ],
      "source": [
        "# Implicit Vs Explicit\n",
        "print(5 + 5.6)            # Implicit: int + float → float\n",
        "print(type(5), type(5.6)) # Show types: int, float\n",
        "print(4 + '4')            # Error: no implicit int + str"
      ]
    },
    {
      "cell_type": "code",
      "execution_count": null,
      "metadata": {
        "colab": {
          "base_uri": "https://localhost:8080/"
        },
        "id": "-7gTNc5THf3e",
        "outputId": "c9490dbf-e13d-420e-a22c-9c9f4f07fee1"
      },
      "outputs": [
        {
          "data": {
            "text/plain": [
              "4.0"
            ]
          },
          "execution_count": 14,
          "metadata": {},
          "output_type": "execute_result"
        }
      ],
      "source": [
        "# Explicit\n",
        "\n",
        "# str to int\n",
        "int('4')\n",
        "\n",
        "# int to str\n",
        "str(5)\n",
        "\n",
        "# float\n",
        "float(4)"
      ]
    },
    {
      "cell_type": "code",
      "execution_count": null,
      "metadata": {
        "colab": {
          "base_uri": "https://localhost:8080/"
        },
        "id": "7TsR7yb_HjT8",
        "outputId": "59925d60-d4f6-4070-8c4d-ef699818d678"
      },
      "outputs": [
        {
          "data": {
            "text/plain": [
              "45"
            ]
          },
          "execution_count": 15,
          "metadata": {},
          "output_type": "execute_result"
        }
      ],
      "source": [
        "# int\n",
        "int(45)"
      ]
    },
    {
      "cell_type": "code",
      "execution_count": null,
      "metadata": {
        "colab": {
          "base_uri": "https://localhost:8080/"
        },
        "id": "ZRhQlfvhHlpf",
        "outputId": "e6913fdb-411c-4230-b930-7cf311f511e0"
      },
      "outputs": [
        {
          "data": {
            "text/plain": [
              "4.0"
            ]
          },
          "execution_count": 16,
          "metadata": {},
          "output_type": "execute_result"
        }
      ],
      "source": [
        "float(4)"
      ]
    },
    {
      "cell_type": "code",
      "execution_count": null,
      "metadata": {
        "colab": {
          "base_uri": "https://localhost:8080/",
          "height": 35
        },
        "id": "Y3VOOf7uHoIj",
        "outputId": "f474cc86-b105-4388-bcf1-7d07e405195a"
      },
      "outputs": [
        {
          "data": {
            "application/vnd.google.colaboratory.intrinsic+json": {
              "type": "string"
            },
            "text/plain": [
              "'5'"
            ]
          },
          "execution_count": 17,
          "metadata": {},
          "output_type": "execute_result"
        }
      ],
      "source": [
        "str(5)"
      ]
    },
    {
      "cell_type": "code",
      "execution_count": null,
      "metadata": {
        "colab": {
          "base_uri": "https://localhost:8080/"
        },
        "id": "TP30urwSHtNA",
        "outputId": "fe47431c-6a9b-4c57-c331-12697b701e3e"
      },
      "outputs": [
        {
          "data": {
            "text/plain": [
              "True"
            ]
          },
          "execution_count": 18,
          "metadata": {},
          "output_type": "execute_result"
        }
      ],
      "source": [
        "bool(1)"
      ]
    },
    {
      "cell_type": "code",
      "execution_count": null,
      "metadata": {
        "colab": {
          "base_uri": "https://localhost:8080/"
        },
        "id": "m8yaEbi2HxXi",
        "outputId": "3b5556f4-d31b-42d4-f7ef-c74ef9c0c675"
      },
      "outputs": [
        {
          "data": {
            "text/plain": [
              "(4+0j)"
            ]
          },
          "execution_count": 19,
          "metadata": {},
          "output_type": "execute_result"
        }
      ],
      "source": [
        "complex(4)"
      ]
    },
    {
      "cell_type": "code",
      "execution_count": null,
      "metadata": {
        "colab": {
          "base_uri": "https://localhost:8080/"
        },
        "id": "M5DugwtfH0DX",
        "outputId": "b7139011-0906-4bb3-b7bf-d8b63e60517d"
      },
      "outputs": [
        {
          "data": {
            "text/plain": [
              "['H', 'e', 'l', 'l', 'o']"
            ]
          },
          "execution_count": 20,
          "metadata": {},
          "output_type": "execute_result"
        }
      ],
      "source": [
        "list(\"Hello\")"
      ]
    },
    {
      "cell_type": "code",
      "execution_count": null,
      "metadata": {
        "colab": {
          "base_uri": "https://localhost:8080/"
        },
        "id": "hQpHNZtRH2MV",
        "outputId": "35d8d274-0dc8-48a5-bb52-d04bf7e151bb"
      },
      "outputs": [
        {
          "data": {
            "text/plain": [
              "('H', 'e', 'l', 'l', 'o')"
            ]
          },
          "execution_count": 21,
          "metadata": {},
          "output_type": "execute_result"
        }
      ],
      "source": [
        "tuple(\"Hello\")"
      ]
    },
    {
      "cell_type": "code",
      "execution_count": null,
      "metadata": {
        "colab": {
          "base_uri": "https://localhost:8080/"
        },
        "id": "0TvNMT7cH56b",
        "outputId": "a198484c-509c-4e92-9e68-5b9b8c2a1490"
      },
      "outputs": [
        {
          "data": {
            "text/plain": [
              "{'H', 'e', 'l', 'o'}"
            ]
          },
          "execution_count": 22,
          "metadata": {},
          "output_type": "execute_result"
        }
      ],
      "source": [
        "set(\"Hello\")"
      ]
    },
    {
      "cell_type": "code",
      "execution_count": null,
      "metadata": {
        "id": "-N6LNv2SH8H5"
      },
      "outputs": [],
      "source": [
        "a = 4.5"
      ]
    },
    {
      "cell_type": "code",
      "execution_count": null,
      "metadata": {
        "colab": {
          "base_uri": "https://localhost:8080/"
        },
        "id": "dKSJfYIqH-iQ",
        "outputId": "4ebdc953-affa-49a5-9913-994981bbef35"
      },
      "outputs": [
        {
          "data": {
            "text/plain": [
              "4"
            ]
          },
          "execution_count": 24,
          "metadata": {},
          "output_type": "execute_result"
        }
      ],
      "source": [
        "int(a)"
      ]
    },
    {
      "cell_type": "code",
      "execution_count": null,
      "metadata": {
        "colab": {
          "base_uri": "https://localhost:8080/"
        },
        "id": "4vb8wUPxIA5F",
        "outputId": "a9042ded-2eda-4159-f4f6-d9fdaac73205"
      },
      "outputs": [
        {
          "data": {
            "text/plain": [
              "4.5"
            ]
          },
          "execution_count": 25,
          "metadata": {},
          "output_type": "execute_result"
        }
      ],
      "source": [
        "a"
      ]
    },
    {
      "cell_type": "code",
      "execution_count": null,
      "metadata": {
        "colab": {
          "base_uri": "https://localhost:8080/"
        },
        "id": "d32VcIcKIDe8",
        "outputId": "df7233ca-8d6e-4c46-f6ad-d7a54d1d32bd"
      },
      "outputs": [
        {
          "name": "stdout",
          "output_type": "stream",
          "text": [
            "Enter first number: 67\n",
            "Enter second number: 78\n",
            "145\n"
          ]
        }
      ],
      "source": [
        "first_num = input(\"Enter first number: \")\n",
        "second_num = input(\"Enter second number: \")\n",
        "result = int(first_num) + int(second_num)\n",
        "print(result)"
      ]
    },
    {
      "cell_type": "code",
      "execution_count": null,
      "metadata": {
        "colab": {
          "base_uri": "https://localhost:8080/"
        },
        "id": "pyZQg-cwID2a",
        "outputId": "4901e590-dbb7-47d5-a97f-29f62716888a"
      },
      "outputs": [
        {
          "name": "stdout",
          "output_type": "stream",
          "text": [
            "Enter first number: 87566858\n",
            "Enter second number: 98676543\n",
            "186243401\n"
          ]
        }
      ],
      "source": [
        "first_num = int(input(\"Enter first number: \"))\n",
        "second_num = int(input(\"Enter second number: \"))\n",
        "result = first_num + second_num\n",
        "print(result)"
      ]
    },
    {
      "cell_type": "markdown",
      "metadata": {
        "id": "WYZ12yJnITLc"
      },
      "source": [
        "# **Literals**"
      ]
    },
    {
      "cell_type": "markdown",
      "metadata": {
        "id": "CDO0rZcWIZDg"
      },
      "source": [
        "Literals = basic data values for variables.\n",
        "\n",
        "Types in Python:\n",
        "\n",
        "Numeric literals\n",
        "\n",
        "String literals\n",
        "\n",
        "Boolean literals\n",
        "\n",
        "Special literals"
      ]
    },
    {
      "cell_type": "markdown",
      "metadata": {
        "id": "EXuuxMPPIfhk"
      },
      "source": [
        "# **1. Numeric literals**"
      ]
    },
    {
      "cell_type": "code",
      "execution_count": null,
      "metadata": {
        "colab": {
          "base_uri": "https://localhost:8080/"
        },
        "id": "cSM93k5uIHlW",
        "outputId": "f253375e-2420-4dd2-cf88-6e0b64795e97"
      },
      "outputs": [
        {
          "name": "stdout",
          "output_type": "stream",
          "text": [
            "10 100 200 300\n",
            "10.5 150.0 0.0015\n",
            "3.14j 3.14 0.0\n"
          ]
        }
      ],
      "source": [
        "# Integer Literals\n",
        "a = 0b1010  # Binary\n",
        "b = 100     # Decimal\n",
        "c = 0o310   # Octal\n",
        "d = 0x12c   # Hex\n",
        "\n",
        "# Float Literals\n",
        "f1 = 10.5\n",
        "f2 = 1.5e2\n",
        "f3 = 1.5e-3\n",
        "\n",
        "# Complex Literal\n",
        "x = 3.14j\n",
        "\n",
        "print(a, b, c, d)\n",
        "print(f1, f2, f3)\n",
        "print(x, x.imag, x.real)"
      ]
    },
    {
      "cell_type": "markdown",
      "metadata": {
        "id": "PFNldLG7InZR"
      },
      "source": [
        "# **2. String literals**"
      ]
    },
    {
      "cell_type": "code",
      "execution_count": null,
      "metadata": {
        "colab": {
          "base_uri": "https://localhost:8080/"
        },
        "id": "SnFAdP-qIlDE",
        "outputId": "1da03683-3da6-4bef-a7d6-e22ad220e74e"
      },
      "outputs": [
        {
          "name": "stdout",
          "output_type": "stream",
          "text": [
            "This is Python\n",
            "This is Python\n",
            "C\n",
            "This is a multiline string with more than one line code.\n",
            "😀😆🤣\n",
            "raw \\n string\n"
          ]
        }
      ],
      "source": [
        "string = 'This is Python'\n",
        "strings = \"This is Python\"\n",
        "char = \"C\"\n",
        "multiline_str = \"\"\"This is a multiline string with more than one line code.\"\"\"\n",
        "unicode = u\"\\U0001f600\\U0001F606\\U0001F923\"\n",
        "raw_str = r\"raw \\n string\"\n",
        "\n",
        "print(string)\n",
        "print(strings)\n",
        "print(char)\n",
        "print(multiline_str)\n",
        "print(unicode)\n",
        "print(raw_str)"
      ]
    },
    {
      "cell_type": "markdown",
      "metadata": {
        "id": "xnCNE9JEIu4s"
      },
      "source": [
        "# **3. Boolean literals**"
      ]
    },
    {
      "cell_type": "code",
      "execution_count": null,
      "metadata": {
        "colab": {
          "base_uri": "https://localhost:8080/"
        },
        "id": "48gveNkWIsTJ",
        "outputId": "519da4ee-0806-445a-b5bb-dfe3b5787001"
      },
      "outputs": [
        {
          "name": "stdout",
          "output_type": "stream",
          "text": [
            "a: 5\n",
            "b: 10\n"
          ]
        }
      ],
      "source": [
        "a = True + 4   # True == 1\n",
        "b = False + 10 # False == 0\n",
        "\n",
        "print(\"a:\", a)\n",
        "print(\"b:\", b)"
      ]
    },
    {
      "cell_type": "markdown",
      "metadata": {
        "id": "IbLPVB1KI4Ur"
      },
      "source": [
        "# **4. Special literals**"
      ]
    },
    {
      "cell_type": "code",
      "execution_count": null,
      "metadata": {
        "colab": {
          "base_uri": "https://localhost:8080/"
        },
        "id": "zIcBn0jVI1dD",
        "outputId": "0adcb8e9-2482-4508-86b6-17c031443e43"
      },
      "outputs": [
        {
          "name": "stdout",
          "output_type": "stream",
          "text": [
            "None\n"
          ]
        }
      ],
      "source": [
        "a = None\n",
        "print(a)"
      ]
    },
    {
      "cell_type": "code",
      "execution_count": null,
      "metadata": {
        "id": "iq8o_2oWI_uP"
      },
      "outputs": [],
      "source": [
        "# Variable Declaration\n",
        "k = None"
      ]
    },
    {
      "cell_type": "markdown",
      "metadata": {
        "id": "rgPzAkuHJH8L"
      },
      "source": [
        "# **Operators in Python**"
      ]
    },
    {
      "cell_type": "markdown",
      "metadata": {
        "id": "-bMDE-ZXJO98"
      },
      "source": [
        "Arithmetic: +, -, *, /, %, **, //\n",
        "\n",
        "Comparison: ==, !=, >, <, >=, <=\n",
        "\n",
        "Logical: and, or, not\n",
        "\n",
        "Bitwise: &, |, ^, ~, <<, >>\n",
        "\n",
        "Assignment: =, +=, -=, *=, /=, %=, **=, //=\n",
        "\n",
        "Identity: is, is not\n",
        "\n",
        "Membership: in, not in"
      ]
    },
    {
      "cell_type": "markdown",
      "metadata": {
        "id": "pKeDS7neJZ7C"
      },
      "source": [
        "# **Arithmetic Operators**"
      ]
    },
    {
      "cell_type": "code",
      "execution_count": null,
      "metadata": {
        "colab": {
          "base_uri": "https://localhost:8080/"
        },
        "id": "Mpsps799JCIC",
        "outputId": "de90aa8a-840f-4987-f290-be9ae2b6ad9d"
      },
      "outputs": [
        {
          "name": "stdout",
          "output_type": "stream",
          "text": [
            "7\n"
          ]
        }
      ],
      "source": [
        "x = 5\n",
        "y = 2\n",
        "print(x + y)"
      ]
    },
    {
      "cell_type": "code",
      "execution_count": null,
      "metadata": {
        "colab": {
          "base_uri": "https://localhost:8080/"
        },
        "id": "1GA-VsuCJfHR",
        "outputId": "ca4cbd62-dbca-4983-ad97-670c74a40ea0"
      },
      "outputs": [
        {
          "name": "stdout",
          "output_type": "stream",
          "text": [
            "3\n"
          ]
        }
      ],
      "source": [
        "print(x - y)"
      ]
    },
    {
      "cell_type": "code",
      "execution_count": null,
      "metadata": {
        "colab": {
          "base_uri": "https://localhost:8080/"
        },
        "id": "dPsiNpmOJi8M",
        "outputId": "a2f69b36-47e7-4e16-e671-50959efb410a"
      },
      "outputs": [
        {
          "name": "stdout",
          "output_type": "stream",
          "text": [
            "10\n"
          ]
        }
      ],
      "source": [
        "print(x * y)"
      ]
    },
    {
      "cell_type": "code",
      "execution_count": null,
      "metadata": {
        "colab": {
          "base_uri": "https://localhost:8080/"
        },
        "id": "R-6c4KifJnYu",
        "outputId": "d11f9622-f7dc-4ea9-9eeb-76c976e78af3"
      },
      "outputs": [
        {
          "name": "stdout",
          "output_type": "stream",
          "text": [
            "2.5\n"
          ]
        }
      ],
      "source": [
        "print(x / y)"
      ]
    },
    {
      "cell_type": "code",
      "execution_count": null,
      "metadata": {
        "colab": {
          "base_uri": "https://localhost:8080/"
        },
        "id": "IoXv6ryFJqUp",
        "outputId": "7baacbc4-26cb-41a3-d2f7-0ad1d6f8323b"
      },
      "outputs": [
        {
          "name": "stdout",
          "output_type": "stream",
          "text": [
            "1\n"
          ]
        }
      ],
      "source": [
        "print(x % y)"
      ]
    },
    {
      "cell_type": "code",
      "execution_count": null,
      "metadata": {
        "colab": {
          "base_uri": "https://localhost:8080/"
        },
        "id": "nVvkdpz0Jt_d",
        "outputId": "fb351077-2b7c-49d5-c84f-21d2665a40c4"
      },
      "outputs": [
        {
          "name": "stdout",
          "output_type": "stream",
          "text": [
            "25\n"
          ]
        }
      ],
      "source": [
        "print(x ** y)"
      ]
    },
    {
      "cell_type": "code",
      "execution_count": null,
      "metadata": {
        "colab": {
          "base_uri": "https://localhost:8080/"
        },
        "id": "f6voAS8OJwMH",
        "outputId": "bde9c861-f4ef-47b9-99c4-3e0d78f8c2de"
      },
      "outputs": [
        {
          "name": "stdout",
          "output_type": "stream",
          "text": [
            "2\n"
          ]
        }
      ],
      "source": [
        "print(x // y)"
      ]
    },
    {
      "cell_type": "markdown",
      "metadata": {
        "id": "EgOizTffJ2U6"
      },
      "source": [
        "# **Comparison Operators**"
      ]
    },
    {
      "cell_type": "code",
      "execution_count": null,
      "metadata": {
        "colab": {
          "base_uri": "https://localhost:8080/"
        },
        "id": "NZyzwDCoJy3v",
        "outputId": "9d0ffa98-30c1-4851-ac05-5adc9fa94274"
      },
      "outputs": [
        {
          "name": "stdout",
          "output_type": "stream",
          "text": [
            "True\n"
          ]
        }
      ],
      "source": [
        "print(x > y)"
      ]
    },
    {
      "cell_type": "code",
      "execution_count": null,
      "metadata": {
        "colab": {
          "base_uri": "https://localhost:8080/"
        },
        "id": "PIPNTYPDKEDK",
        "outputId": "9cd2df23-5959-4afe-a3bf-4a9c46249425"
      },
      "outputs": [
        {
          "name": "stdout",
          "output_type": "stream",
          "text": [
            "False\n"
          ]
        }
      ],
      "source": [
        "\n",
        "print(x < y)"
      ]
    },
    {
      "cell_type": "code",
      "execution_count": null,
      "metadata": {
        "colab": {
          "base_uri": "https://localhost:8080/"
        },
        "id": "qMnEFRhrKJ6X",
        "outputId": "99bbb711-080f-460b-db30-3ea668a7063a"
      },
      "outputs": [
        {
          "name": "stdout",
          "output_type": "stream",
          "text": [
            "True\n"
          ]
        }
      ],
      "source": [
        "print(x >= y)"
      ]
    },
    {
      "cell_type": "code",
      "execution_count": null,
      "metadata": {
        "colab": {
          "base_uri": "https://localhost:8080/"
        },
        "id": "nAL297TSKMv6",
        "outputId": "cd54d1d0-1f35-4ee4-d8b2-96c3a746631d"
      },
      "outputs": [
        {
          "name": "stdout",
          "output_type": "stream",
          "text": [
            "False\n"
          ]
        }
      ],
      "source": [
        "print(x <= y)"
      ]
    },
    {
      "cell_type": "code",
      "execution_count": null,
      "metadata": {
        "colab": {
          "base_uri": "https://localhost:8080/"
        },
        "id": "L85Wkb0yKd5H",
        "outputId": "82aa883e-d824-4365-bc9e-b75fc615d597"
      },
      "outputs": [
        {
          "name": "stdout",
          "output_type": "stream",
          "text": [
            "False\n"
          ]
        }
      ],
      "source": [
        "print(x == y)"
      ]
    },
    {
      "cell_type": "code",
      "execution_count": null,
      "metadata": {
        "colab": {
          "base_uri": "https://localhost:8080/"
        },
        "id": "9QujgmrUKhSz",
        "outputId": "2396ca36-68e0-4bad-a60a-d525fbba6ce7"
      },
      "outputs": [
        {
          "name": "stdout",
          "output_type": "stream",
          "text": [
            "True\n"
          ]
        }
      ],
      "source": [
        "print(x != y)"
      ]
    },
    {
      "cell_type": "markdown",
      "metadata": {
        "id": "XRSzRHi4KmmJ"
      },
      "source": [
        "# **Logical Operators**"
      ]
    },
    {
      "cell_type": "code",
      "execution_count": null,
      "metadata": {
        "colab": {
          "base_uri": "https://localhost:8080/"
        },
        "id": "QU8jbhP4KjGh",
        "outputId": "4c448cdc-7115-49bf-8a79-4b86ba8dfb8a"
      },
      "outputs": [
        {
          "name": "stdout",
          "output_type": "stream",
          "text": [
            "True\n"
          ]
        }
      ],
      "source": [
        "x = True\n",
        "y = False\n",
        "print( x or y)"
      ]
    },
    {
      "cell_type": "code",
      "execution_count": null,
      "metadata": {
        "colab": {
          "base_uri": "https://localhost:8080/"
        },
        "id": "wwmjIongKwSq",
        "outputId": "0e7108f9-e004-4202-c599-72cc1aecca30"
      },
      "outputs": [
        {
          "name": "stdout",
          "output_type": "stream",
          "text": [
            "False\n"
          ]
        }
      ],
      "source": [
        "print(x and y)"
      ]
    },
    {
      "cell_type": "code",
      "execution_count": null,
      "metadata": {
        "colab": {
          "base_uri": "https://localhost:8080/"
        },
        "id": "8BQ9XVUlKy1h",
        "outputId": "3c56b607-ae5e-4537-ac66-7a527cd08a4e"
      },
      "outputs": [
        {
          "name": "stdout",
          "output_type": "stream",
          "text": [
            "False\n",
            "True\n"
          ]
        }
      ],
      "source": [
        "print(not x)\n",
        "print(not y)"
      ]
    },
    {
      "cell_type": "markdown",
      "metadata": {
        "id": "S9tPWqy2K4Lw"
      },
      "source": [
        "# **Bitwise Operators**"
      ]
    },
    {
      "cell_type": "code",
      "execution_count": null,
      "metadata": {
        "colab": {
          "base_uri": "https://localhost:8080/"
        },
        "id": "MDJHm9y2KziQ",
        "outputId": "390bcede-7da2-47a5-b11f-1f259df2f603"
      },
      "outputs": [
        {
          "name": "stdout",
          "output_type": "stream",
          "text": [
            "2\n"
          ]
        }
      ],
      "source": [
        "x = 2\n",
        "y = 3\n",
        "print(x & y) # AND"
      ]
    },
    {
      "cell_type": "code",
      "execution_count": null,
      "metadata": {
        "colab": {
          "base_uri": "https://localhost:8080/"
        },
        "id": "5gU7vINaLBVh",
        "outputId": "9cfe9e04-2b56-4270-8a19-1089ec1a7434"
      },
      "outputs": [
        {
          "name": "stdout",
          "output_type": "stream",
          "text": [
            "3\n"
          ]
        }
      ],
      "source": [
        "print(x | y) # OR"
      ]
    },
    {
      "cell_type": "code",
      "execution_count": null,
      "metadata": {
        "colab": {
          "background_save": true
        },
        "id": "n-GWRHFMLEPR",
        "outputId": "1d2ba344-2b45-4ec3-cadb-8a6e436c6e80"
      },
      "outputs": [
        {
          "name": "stdout",
          "output_type": "stream",
          "text": [
            "1\n"
          ]
        }
      ],
      "source": [
        "print(2 ^ 3) # XOR\n",
        "1\n"
      ]
    },
    {
      "cell_type": "code",
      "source": [
        "print(x >> 2) # Right Shift"
      ],
      "metadata": {
        "colab": {
          "base_uri": "https://localhost:8080/"
        },
        "id": "lsgudbNYLfua",
        "outputId": "b8792569-eec4-45de-a95a-2c306aefd979"
      },
      "execution_count": null,
      "outputs": [
        {
          "output_type": "stream",
          "name": "stdout",
          "text": [
            "0\n"
          ]
        }
      ]
    },
    {
      "cell_type": "code",
      "source": [
        "print(y << 3) # Left Shift"
      ],
      "metadata": {
        "colab": {
          "base_uri": "https://localhost:8080/"
        },
        "id": "p1elapwFLmcc",
        "outputId": "60db5625-6a54-47a2-ba52-f33b1ffc4ae1"
      },
      "execution_count": null,
      "outputs": [
        {
          "output_type": "stream",
          "name": "stdout",
          "text": [
            "24\n"
          ]
        }
      ]
    },
    {
      "cell_type": "code",
      "source": [
        "print(~ x) # NOT"
      ],
      "metadata": {
        "colab": {
          "base_uri": "https://localhost:8080/"
        },
        "id": "z7caXV2mLo7S",
        "outputId": "aa2c744b-f4d7-4ecc-e9c6-5a7bf4166cd0"
      },
      "execution_count": null,
      "outputs": [
        {
          "output_type": "stream",
          "name": "stdout",
          "text": [
            "-3\n"
          ]
        }
      ]
    },
    {
      "cell_type": "markdown",
      "source": [
        "# **Assignment Operators**"
      ],
      "metadata": {
        "id": "qvJZgFtwLsiC"
      }
    },
    {
      "cell_type": "code",
      "source": [
        "a = 3\n",
        "print(a)"
      ],
      "metadata": {
        "colab": {
          "base_uri": "https://localhost:8080/"
        },
        "id": "2nl-MVA3LpdJ",
        "outputId": "d1ba1f8f-ee0f-463e-b012-4f0c44ab35ac"
      },
      "execution_count": null,
      "outputs": [
        {
          "output_type": "stream",
          "name": "stdout",
          "text": [
            "3\n"
          ]
        }
      ]
    },
    {
      "cell_type": "code",
      "source": [
        "a += 3   # a = a + 3\n",
        "print(a)"
      ],
      "metadata": {
        "colab": {
          "base_uri": "https://localhost:8080/"
        },
        "id": "EaF0QHH9L10B",
        "outputId": "e33ae0bf-f30a-407b-eeff-37182336d22e"
      },
      "execution_count": null,
      "outputs": [
        {
          "output_type": "stream",
          "name": "stdout",
          "text": [
            "6\n"
          ]
        }
      ]
    },
    {
      "cell_type": "code",
      "source": [
        "a -= 3   # a = a - 3\n",
        "print(a)"
      ],
      "metadata": {
        "colab": {
          "base_uri": "https://localhost:8080/"
        },
        "id": "uEYw1BKML6Tv",
        "outputId": "369a11c3-ffc4-49b1-efb8-68856516ec48"
      },
      "execution_count": null,
      "outputs": [
        {
          "output_type": "stream",
          "name": "stdout",
          "text": [
            "3\n"
          ]
        }
      ]
    },
    {
      "cell_type": "code",
      "source": [
        "a *= 3   # a = a * 3\n",
        "print(a)"
      ],
      "metadata": {
        "colab": {
          "base_uri": "https://localhost:8080/"
        },
        "id": "oZgylm5gL9B7",
        "outputId": "2d4f87e8-20ba-4817-9409-0d4d0bb4827e"
      },
      "execution_count": null,
      "outputs": [
        {
          "output_type": "stream",
          "name": "stdout",
          "text": [
            "9\n"
          ]
        }
      ]
    },
    {
      "cell_type": "code",
      "source": [
        "a /= 3   # a = a / 3\n",
        "print(a)"
      ],
      "metadata": {
        "colab": {
          "base_uri": "https://localhost:8080/"
        },
        "id": "IXn1OFtFMAOS",
        "outputId": "eea2188c-ebbd-478f-83c4-78acbe36f199"
      },
      "execution_count": null,
      "outputs": [
        {
          "output_type": "stream",
          "name": "stdout",
          "text": [
            "3.0\n"
          ]
        }
      ]
    },
    {
      "cell_type": "code",
      "source": [
        "a++\n",
        "++a"
      ],
      "metadata": {
        "colab": {
          "base_uri": "https://localhost:8080/",
          "height": 106
        },
        "id": "Ig-vzo2gMDVt",
        "outputId": "6b511b89-4108-4ea5-ba33-980f09d83297"
      },
      "execution_count": null,
      "outputs": [
        {
          "output_type": "error",
          "ename": "SyntaxError",
          "evalue": "invalid syntax (<ipython-input-64-eb1e8ffb1845>, line 1)",
          "traceback": [
            "\u001b[0;36m  File \u001b[0;32m\"<ipython-input-64-eb1e8ffb1845>\"\u001b[0;36m, line \u001b[0;32m1\u001b[0m\n\u001b[0;31m    a++\u001b[0m\n\u001b[0m       ^\u001b[0m\n\u001b[0;31mSyntaxError\u001b[0m\u001b[0;31m:\u001b[0m invalid syntax\n"
          ]
        }
      ]
    },
    {
      "cell_type": "code",
      "source": [
        "a = a + 3\n",
        "a += 3"
      ],
      "metadata": {
        "id": "jJvwApFsMJYf"
      },
      "execution_count": null,
      "outputs": []
    },
    {
      "cell_type": "markdown",
      "source": [
        "# **Identity Operators**"
      ],
      "metadata": {
        "id": "uh1rIVTRMNSg"
      }
    },
    {
      "cell_type": "code",
      "source": [
        "a = 3\n",
        "b = 3\n",
        "print(a is b)"
      ],
      "metadata": {
        "colab": {
          "base_uri": "https://localhost:8080/"
        },
        "id": "fZq8vdb3MJ6G",
        "outputId": "21c55f2b-8f0c-4287-dff0-c9a01c8dde0d"
      },
      "execution_count": null,
      "outputs": [
        {
          "output_type": "stream",
          "name": "stdout",
          "text": [
            "True\n"
          ]
        }
      ]
    },
    {
      "cell_type": "code",
      "source": [
        "a = \"Hello\"\n",
        "b = \"Hello\"\n",
        "print(a is b)"
      ],
      "metadata": {
        "colab": {
          "base_uri": "https://localhost:8080/"
        },
        "id": "4SbFhCGHMmzy",
        "outputId": "e4d58ee8-c6ea-4558-9673-6068c1048977"
      },
      "execution_count": null,
      "outputs": [
        {
          "output_type": "stream",
          "name": "stdout",
          "text": [
            "True\n"
          ]
        }
      ]
    },
    {
      "cell_type": "code",
      "source": [
        "a = [1, 2, 3]\n",
        "b = [1, 2, 3]\n",
        "print(a is b)"
      ],
      "metadata": {
        "colab": {
          "base_uri": "https://localhost:8080/"
        },
        "id": "fLWqEVkJMpfO",
        "outputId": "c6e74301-17f8-453b-8092-b5985fc08af4"
      },
      "execution_count": null,
      "outputs": [
        {
          "output_type": "stream",
          "name": "stdout",
          "text": [
            "False\n"
          ]
        }
      ]
    },
    {
      "cell_type": "code",
      "source": [
        "a = \"Hello-World\"\n",
        "b = \"Hello-World\"\n",
        "print(a is b)\n",
        "print(a is not b)"
      ],
      "metadata": {
        "colab": {
          "base_uri": "https://localhost:8080/"
        },
        "id": "7h33oUzvMsKs",
        "outputId": "e026c7e0-41a9-440e-f819-c9573153100f"
      },
      "execution_count": null,
      "outputs": [
        {
          "output_type": "stream",
          "name": "stdout",
          "text": [
            "False\n",
            "True\n"
          ]
        }
      ]
    },
    {
      "cell_type": "markdown",
      "source": [
        "# **Membership Operators**"
      ],
      "metadata": {
        "id": "t7pqGIUJMwhH"
      }
    },
    {
      "cell_type": "markdown",
      "source": [
        "in & not in"
      ],
      "metadata": {
        "id": "4N6vMFs1M20R"
      }
    },
    {
      "cell_type": "code",
      "source": [
        "x = \"Delhi\"\n",
        "print(\"D\" in x)\n",
        "print(\"D\" not in x)"
      ],
      "metadata": {
        "colab": {
          "base_uri": "https://localhost:8080/"
        },
        "id": "sNylkvQnMve0",
        "outputId": "116b9858-c57c-4a7f-ca5d-a64e763f6b99"
      },
      "execution_count": null,
      "outputs": [
        {
          "output_type": "stream",
          "name": "stdout",
          "text": [
            "True\n",
            "False\n"
          ]
        }
      ]
    },
    {
      "cell_type": "code",
      "source": [
        "x = [1, 2, 3]\n",
        "print(1 in x)\n",
        "print(5 in x)"
      ],
      "metadata": {
        "colab": {
          "base_uri": "https://localhost:8080/"
        },
        "id": "m6m4kXrsM6v3",
        "outputId": "67b5982e-2f00-4394-91cc-42089a6f23b6"
      },
      "execution_count": null,
      "outputs": [
        {
          "output_type": "stream",
          "name": "stdout",
          "text": [
            "True\n",
            "False\n"
          ]
        }
      ]
    },
    {
      "cell_type": "code",
      "source": [
        "x = (1, 2, 3)\n",
        "print(1 in x)\n",
        "print(5 in x)"
      ],
      "metadata": {
        "colab": {
          "base_uri": "https://localhost:8080/"
        },
        "id": "B80m81W_M9Rd",
        "outputId": "c58786ff-45c2-4586-8a44-6753456a8e56"
      },
      "execution_count": null,
      "outputs": [
        {
          "output_type": "stream",
          "name": "stdout",
          "text": [
            "True\n",
            "False\n"
          ]
        }
      ]
    },
    {
      "cell_type": "code",
      "source": [
        "# Sum of digits of a 3-digit number\n",
        "number = int(input('Enter a 3 digit number: '))\n",
        "\n",
        "# Units digit\n",
        "a = number % 10\n",
        "number //= 10\n",
        "\n",
        "# Tens digit\n",
        "b = number % 10\n",
        "number //= 10\n",
        "\n",
        "# Hundreds digit\n",
        "c = number % 10\n",
        "\n",
        "print(a + b + c)"
      ],
      "metadata": {
        "colab": {
          "base_uri": "https://localhost:8080/"
        },
        "id": "ZB1yEnxlM_7J",
        "outputId": "0e2b0264-d915-42d8-e581-fdbdddc3a809"
      },
      "execution_count": null,
      "outputs": [
        {
          "output_type": "stream",
          "name": "stdout",
          "text": [
            "Enter a 3 digit number: 980\n",
            "17\n"
          ]
        }
      ]
    },
    {
      "cell_type": "markdown",
      "source": [
        "# **if-else**"
      ],
      "metadata": {
        "id": "ekzp8AWnNJXE"
      }
    },
    {
      "cell_type": "code",
      "source": [
        "# correct email - saurabh@gmail.com\n",
        "# password = 1234\n",
        "\n",
        "email = input(\"Apna email bata: \")\n",
        "if \"@\" in email:\n",
        "    password = input(\"Apna password bhi bata: \")\n",
        "\n",
        "    if email == \"saurabh@gmail.com\" and password == \"1234\":\n",
        "        print(\"Welcome\")\n",
        "    elif email == \"saurabh@gmail.com\" and password != \"1234\":\n",
        "        print(\"Password incorrect\")\n",
        "        password = input(\"Password fir se bol: \")\n",
        "        if password ==\"1234\":\n",
        "            print(\"Finally correct\")\n",
        "        else:\n",
        "            print(\"Still incorrect\")\n",
        "    else:\n",
        "        print(\"Incorrect credentials\")\n",
        "else:\n",
        "    print(\"Email galat hai sahi likho: \")"
      ],
      "metadata": {
        "colab": {
          "base_uri": "https://localhost:8080/"
        },
        "id": "Is5Gu7kANDwD",
        "outputId": "bda8c388-cf68-43b5-bfcc-82a44ecd6d04"
      },
      "execution_count": null,
      "outputs": [
        {
          "output_type": "stream",
          "name": "stdout",
          "text": [
            "Apna email bata: anusha.22cse@bmu.edu.in\n",
            "Apna password bhi bata: 123456\n",
            "Incorrect credentials\n"
          ]
        }
      ]
    },
    {
      "cell_type": "code",
      "source": [
        "# if-else Examples\n",
        "# 1. Min of 3 Numbers\n",
        "# 2. Menu Driven Program"
      ],
      "metadata": {
        "id": "iHlMpBUWNSPq"
      },
      "execution_count": null,
      "outputs": []
    },
    {
      "cell_type": "code",
      "source": [
        "# 1. Min of 3 Numbers\n",
        "a = int(input('first num: '))\n",
        "b = int(input('second num: '))\n",
        "c = int(input('third num: '))\n",
        "\n",
        "if a < b and a < c:\n",
        "    print('smallest is', a)\n",
        "elif b < c:\n",
        "    print('smallest is', b)\n",
        "else:\n",
        "    print('smallest is', c)"
      ],
      "metadata": {
        "colab": {
          "base_uri": "https://localhost:8080/"
        },
        "id": "XWUgwBgjNeuK",
        "outputId": "f4b11efb-ddb1-4aab-f53f-407b32a218dd"
      },
      "execution_count": null,
      "outputs": [
        {
          "output_type": "stream",
          "name": "stdout",
          "text": [
            "first num: 3\n",
            "second num: 7\n",
            "third num: 8\n",
            "smallest is 3\n"
          ]
        }
      ]
    },
    {
      "cell_type": "code",
      "source": [
        "# 2. Menu-Driven Calculator\n",
        "menu = input(\"\"\"\n",
        "Hi! how can I help you.\n",
        "1. Enter 1 for pin change\n",
        "2. Enter 2 for balance check\n",
        "3. Enter 3 for withdrawl\n",
        "4. Enter 4 for exit\n",
        "\"\"\")\n",
        "\n",
        "if menu == '1':\n",
        "  print('pin change')\n",
        "elif menu == '2':\n",
        "  print('balance')\n",
        "else:\n",
        "  print('exit')"
      ],
      "metadata": {
        "colab": {
          "base_uri": "https://localhost:8080/"
        },
        "id": "WMD2ggwYNh8t",
        "outputId": "4cad5fe2-8a13-49c2-fd28-cf37f7fb4ef2"
      },
      "execution_count": null,
      "outputs": [
        {
          "output_type": "stream",
          "name": "stdout",
          "text": [
            "\n",
            "Hi! how can I help you.\n",
            "1. Enter 1 for pin change\n",
            "2. Enter 2 for balance check\n",
            "3. Enter 3 for withdrawl\n",
            "4. Enter 4 for exit\n",
            "2\n",
            "balance\n"
          ]
        }
      ]
    },
    {
      "cell_type": "code",
      "source": [
        "# In Other Languages\n",
        "if(name == \"xyz\"){\n",
        "    something;\n",
        "    something;\n",
        "}else{\n",
        "    something else;\n",
        "    something else;\n",
        "}"
      ],
      "metadata": {
        "colab": {
          "base_uri": "https://localhost:8080/",
          "height": 106
        },
        "id": "cHWBbvizNnEt",
        "outputId": "6d3dbfae-6880-45c8-d04c-de2fbcd6f809"
      },
      "execution_count": null,
      "outputs": [
        {
          "output_type": "error",
          "ename": "SyntaxError",
          "evalue": "invalid syntax (<ipython-input-78-7e7b9c6e417b>, line 2)",
          "traceback": [
            "\u001b[0;36m  File \u001b[0;32m\"<ipython-input-78-7e7b9c6e417b>\"\u001b[0;36m, line \u001b[0;32m2\u001b[0m\n\u001b[0;31m    if(name == \"xyz\"){\u001b[0m\n\u001b[0m                     ^\u001b[0m\n\u001b[0;31mSyntaxError\u001b[0m\u001b[0;31m:\u001b[0m invalid syntax\n"
          ]
        }
      ]
    },
    {
      "cell_type": "code",
      "source": [
        "# In Python\n",
        "name = \"xyz\"\n",
        "if name == \"xyz\":\n",
        "    print(\"line1\")\n",
        "    print(\"line2\")\n",
        "    if 5 == 5:\n",
        "        print(\"line5\")\n",
        "else:\n",
        "    print(\"line3\")"
      ],
      "metadata": {
        "colab": {
          "base_uri": "https://localhost:8080/"
        },
        "id": "6ltLkNbmNxJc",
        "outputId": "09d672fa-b2a9-49a6-8a61-b7168864d869"
      },
      "execution_count": null,
      "outputs": [
        {
          "output_type": "stream",
          "name": "stdout",
          "text": [
            "line1\n",
            "line2\n",
            "line5\n"
          ]
        }
      ]
    },
    {
      "cell_type": "markdown",
      "source": [
        "# **Loops in Python**"
      ],
      "metadata": {
        "id": "r_cpnGERN3a3"
      }
    },
    {
      "cell_type": "markdown",
      "source": [
        "##Need\n",
        "\n",
        "Repeat code block.\n",
        "\n",
        "Iteration: Execute same code repeatedly.\n",
        "\n",
        "##While Loop\n",
        "\n",
        "Executes while condition true.\n",
        "\n",
        "##For Loop\n",
        "\n",
        "Executes for each item in iterable."
      ],
      "metadata": {
        "id": "iW78jcnoOSm4"
      }
    },
    {
      "cell_type": "markdown",
      "source": [
        "# **While Loop**"
      ],
      "metadata": {
        "id": "UiN9MF5SOgzy"
      }
    },
    {
      "cell_type": "code",
      "source": [
        "# While Loop Example\n",
        "# While Loop\n",
        "# For Loop\n",
        "# C\n",
        "while(condition){\n",
        "    code\n",
        "}"
      ],
      "metadata": {
        "colab": {
          "base_uri": "https://localhost:8080/",
          "height": 106
        },
        "id": "XxLvakKVNzyU",
        "outputId": "73627f14-f5ac-49df-c8c6-2ad678f7d486"
      },
      "execution_count": null,
      "outputs": [
        {
          "output_type": "error",
          "ename": "SyntaxError",
          "evalue": "invalid syntax (<ipython-input-80-5dc1ceb7aaf1>, line 5)",
          "traceback": [
            "\u001b[0;36m  File \u001b[0;32m\"<ipython-input-80-5dc1ceb7aaf1>\"\u001b[0;36m, line \u001b[0;32m5\u001b[0m\n\u001b[0;31m    while(condition){\u001b[0m\n\u001b[0m                    ^\u001b[0m\n\u001b[0;31mSyntaxError\u001b[0m\u001b[0;31m:\u001b[0m invalid syntax\n"
          ]
        }
      ]
    },
    {
      "cell_type": "code",
      "source": [
        "# Python\n",
        "while condition:\n",
        "    code"
      ],
      "metadata": {
        "colab": {
          "base_uri": "https://localhost:8080/",
          "height": 176
        },
        "id": "Bwwp4jjNOulj",
        "outputId": "9f9d5e20-7d5d-4bea-94d3-71086b0bd586"
      },
      "execution_count": null,
      "outputs": [
        {
          "output_type": "error",
          "ename": "NameError",
          "evalue": "name 'condition' is not defined",
          "traceback": [
            "\u001b[0;31m---------------------------------------------------------------------------\u001b[0m",
            "\u001b[0;31mNameError\u001b[0m                                 Traceback (most recent call last)",
            "\u001b[0;32m<ipython-input-81-97a1709f7fd9>\u001b[0m in \u001b[0;36m<cell line: 0>\u001b[0;34m()\u001b[0m\n\u001b[1;32m      1\u001b[0m \u001b[0;31m# Python\u001b[0m\u001b[0;34m\u001b[0m\u001b[0;34m\u001b[0m\u001b[0m\n\u001b[0;32m----> 2\u001b[0;31m \u001b[0;32mwhile\u001b[0m \u001b[0mcondition\u001b[0m\u001b[0;34m:\u001b[0m\u001b[0;34m\u001b[0m\u001b[0;34m\u001b[0m\u001b[0m\n\u001b[0m\u001b[1;32m      3\u001b[0m     \u001b[0mcode\u001b[0m\u001b[0;34m\u001b[0m\u001b[0;34m\u001b[0m\u001b[0m\n",
            "\u001b[0;31mNameError\u001b[0m: name 'condition' is not defined"
          ]
        }
      ]
    },
    {
      "cell_type": "code",
      "source": [
        "# 1. Print Multiplication Table\n",
        "number = int(input(\"Enter the number: \"))\n",
        "i = 1\n",
        "while i < 11:\n",
        "    print(number * i)\n",
        "    i += 1"
      ],
      "metadata": {
        "colab": {
          "base_uri": "https://localhost:8080/"
        },
        "id": "1hJLcM6wO0Mt",
        "outputId": "6f9e815a-5358-418a-f688-098cdfe29e73"
      },
      "execution_count": null,
      "outputs": [
        {
          "output_type": "stream",
          "name": "stdout",
          "text": [
            "Enter the number: 15\n",
            "15\n",
            "30\n",
            "45\n",
            "60\n",
            "75\n",
            "90\n",
            "105\n",
            "120\n",
            "135\n",
            "150\n"
          ]
        }
      ]
    },
    {
      "cell_type": "code",
      "source": [
        "number = int(input(\"Enter the number: \"))\n",
        "i = 1\n",
        "while i < 11:\n",
        "    print(number, \"*\", i, \"=\", number * i)\n",
        "    i += 1"
      ],
      "metadata": {
        "colab": {
          "base_uri": "https://localhost:8080/"
        },
        "id": "tgjwTMzTO15b",
        "outputId": "8020f66b-6db1-4051-d41f-365fca493fd1"
      },
      "execution_count": null,
      "outputs": [
        {
          "output_type": "stream",
          "name": "stdout",
          "text": [
            "Enter the number: 16\n",
            "16 * 1 = 16\n",
            "16 * 2 = 32\n",
            "16 * 3 = 48\n",
            "16 * 4 = 64\n",
            "16 * 5 = 80\n",
            "16 * 6 = 96\n",
            "16 * 7 = 112\n",
            "16 * 8 = 128\n",
            "16 * 9 = 144\n",
            "16 * 10 = 160\n"
          ]
        }
      ]
    },
    {
      "cell_type": "code",
      "source": [
        "# while loop with else\n",
        "x = 1\n",
        "while x < 3:\n",
        "  print(x)\n",
        "  x += 1\n",
        "else:\n",
        "  print('limit crossed')"
      ],
      "metadata": {
        "colab": {
          "base_uri": "https://localhost:8080/"
        },
        "id": "sZoCJLEYPMMW",
        "outputId": "24d2b561-4702-4da5-cce7-0d2514442a62"
      },
      "execution_count": null,
      "outputs": [
        {
          "output_type": "stream",
          "name": "stdout",
          "text": [
            "1\n",
            "2\n",
            "limit crossed\n"
          ]
        }
      ]
    },
    {
      "cell_type": "code",
      "source": [
        "# 2. Sum of Digits\n",
        "number = int(input(\"Enter the number: \"))\n",
        "sum_digits = 0\n",
        "while number > 0:\n",
        "    digit = number % 10\n",
        "    sum_digits += digit\n",
        "    number //= 10\n",
        "print(f\"Sum of digits: {sum_digits}\")"
      ],
      "metadata": {
        "colab": {
          "base_uri": "https://localhost:8080/"
        },
        "id": "oAGBa3NbO7hU",
        "outputId": "adbd04f4-8748-489d-fc5b-bacbae8c5745"
      },
      "execution_count": null,
      "outputs": [
        {
          "output_type": "stream",
          "name": "stdout",
          "text": [
            "Enter the number: 78\n",
            "Sum of digits: 15\n"
          ]
        }
      ]
    },
    {
      "cell_type": "code",
      "source": [
        "# 3. Average of Numbers Until 0\n",
        "count = 0\n",
        "total = 0\n",
        "while True:\n",
        "    number = int(input(\"Enter a number (0 to stop): \"))\n",
        "    if number == 0:\n",
        "        break\n",
        "    total += number\n",
        "    count += 1\n",
        "if count > 0:\n",
        "    average = total / count\n",
        "    print(f\"Average of entered numbers: {average}\")\n",
        "else:\n",
        "    print(\"No numbers entered.\")"
      ],
      "metadata": {
        "colab": {
          "base_uri": "https://localhost:8080/"
        },
        "id": "UwDPpj3bPC2i",
        "outputId": "a6266022-ff79-4869-a0f8-2454f219ecb3"
      },
      "execution_count": null,
      "outputs": [
        {
          "output_type": "stream",
          "name": "stdout",
          "text": [
            "Enter a number (0 to stop): 6\n",
            "Enter a number (0 to stop): 8\n",
            "Enter a number (0 to stop): 6\n",
            "Enter a number (0 to stop): 0\n",
            "Average of entered numbers: 6.666666666666667\n"
          ]
        }
      ]
    },
    {
      "cell_type": "code",
      "source": [
        "import random\n",
        "random.randint(1, 100)"
      ],
      "metadata": {
        "colab": {
          "base_uri": "https://localhost:8080/"
        },
        "id": "KrMa4cvMPVya",
        "outputId": "a28f340e-d9ef-442d-c8d9-0fb0ba24f748"
      },
      "execution_count": null,
      "outputs": [
        {
          "output_type": "execute_result",
          "data": {
            "text/plain": [
              "60"
            ]
          },
          "metadata": {},
          "execution_count": 88
        }
      ]
    },
    {
      "cell_type": "code",
      "source": [
        "jackpot = random.randint(1, 100)\n",
        "guess = int(input(\"Chal guess kar: \"))\n",
        "counter = 1\n",
        "while guess != jackpot:\n",
        "    if guess < jackpot:\n",
        "        print(\"Guess higher\")\n",
        "    else:\n",
        "        print(\"Guess lower\")\n",
        "    guess = int(input(\"Chal guess kar: \"))\n",
        "    counter += 1\n",
        "print(\"Sahi Jawab\")\n",
        "print(\"You took\", counter, \"attempts\")"
      ],
      "metadata": {
        "colab": {
          "base_uri": "https://localhost:8080/"
        },
        "id": "omtnXFY4Pguv",
        "outputId": "03ba612f-bbb2-4a4c-fe5d-58d5e66e0c39"
      },
      "execution_count": null,
      "outputs": [
        {
          "output_type": "stream",
          "name": "stdout",
          "text": [
            "Chal guess kar: 68\n",
            "Guess higher\n",
            "Chal guess kar: 90\n",
            "Guess lower\n",
            "Chal guess kar: 23\n",
            "Guess higher\n",
            "Chal guess kar: 67\n",
            "Guess higher\n",
            "Chal guess kar: 60\n",
            "Guess higher\n",
            "Chal guess kar: 74\n",
            "Guess lower\n",
            "Chal guess kar: 89\n",
            "Guess lower\n",
            "Chal guess kar: 78\n",
            "Guess lower\n",
            "Chal guess kar: 70\n",
            "Sahi Jawab\n",
            "You took 9 attempts\n"
          ]
        }
      ]
    },
    {
      "cell_type": "markdown",
      "source": [
        "# **For Loop**"
      ],
      "metadata": {
        "id": "DK-fzXUUP_X1"
      }
    },
    {
      "cell_type": "code",
      "source": [
        "# C, C++, Java Loop Syntax\n",
        "for(i=0; i<10; i++) {\n",
        "    // code\n",
        "}"
      ],
      "metadata": {
        "colab": {
          "base_uri": "https://localhost:8080/",
          "height": 106
        },
        "id": "7L4kTt0qPkRe",
        "outputId": "249b62cc-74c5-46d0-c3b8-4201082d1079"
      },
      "execution_count": null,
      "outputs": [
        {
          "output_type": "error",
          "ename": "SyntaxError",
          "evalue": "invalid syntax. Maybe you meant '==' or ':=' instead of '='? (<ipython-input-90-ca18558c5ad9>, line 2)",
          "traceback": [
            "\u001b[0;36m  File \u001b[0;32m\"<ipython-input-90-ca18558c5ad9>\"\u001b[0;36m, line \u001b[0;32m2\u001b[0m\n\u001b[0;31m    for(i=0; i<10; i++) {\u001b[0m\n\u001b[0m        ^\u001b[0m\n\u001b[0;31mSyntaxError\u001b[0m\u001b[0;31m:\u001b[0m invalid syntax. Maybe you meant '==' or ':=' instead of '='?\n"
          ]
        }
      ]
    },
    {
      "cell_type": "code",
      "source": [
        "# Range Function\n",
        "range(1, 11)"
      ],
      "metadata": {
        "id": "ZA6B7GCSQHM7",
        "colab": {
          "base_uri": "https://localhost:8080/"
        },
        "outputId": "24d934df-a55e-4b5a-fe5a-7048b3dc4250"
      },
      "execution_count": 1,
      "outputs": [
        {
          "output_type": "execute_result",
          "data": {
            "text/plain": [
              "range(1, 11)"
            ]
          },
          "metadata": {},
          "execution_count": 1
        }
      ]
    },
    {
      "cell_type": "code",
      "source": [
        "list(range(1, 11))"
      ],
      "metadata": {
        "colab": {
          "base_uri": "https://localhost:8080/"
        },
        "id": "S-eG8M4zyt6B",
        "outputId": "7429a75b-b58a-4a9c-c659-8410dd4f44ff"
      },
      "execution_count": 2,
      "outputs": [
        {
          "output_type": "execute_result",
          "data": {
            "text/plain": [
              "[1, 2, 3, 4, 5, 6, 7, 8, 9, 10]"
            ]
          },
          "metadata": {},
          "execution_count": 2
        }
      ]
    },
    {
      "cell_type": "code",
      "source": [
        "list(range(5))"
      ],
      "metadata": {
        "colab": {
          "base_uri": "https://localhost:8080/"
        },
        "id": "apxebjytyzDz",
        "outputId": "6908ecba-e3c9-49ef-975b-872db6b8dd57"
      },
      "execution_count": 3,
      "outputs": [
        {
          "output_type": "execute_result",
          "data": {
            "text/plain": [
              "[0, 1, 2, 3, 4]"
            ]
          },
          "metadata": {},
          "execution_count": 3
        }
      ]
    },
    {
      "cell_type": "code",
      "source": [
        "list(range(15))"
      ],
      "metadata": {
        "colab": {
          "base_uri": "https://localhost:8080/"
        },
        "id": "V8zHqswry17m",
        "outputId": "2553f1a8-f6fc-4912-950a-acea0b56329e"
      },
      "execution_count": 4,
      "outputs": [
        {
          "output_type": "execute_result",
          "data": {
            "text/plain": [
              "[0, 1, 2, 3, 4, 5, 6, 7, 8, 9, 10, 11, 12, 13, 14]"
            ]
          },
          "metadata": {},
          "execution_count": 4
        }
      ]
    },
    {
      "cell_type": "code",
      "source": [
        "list(range(1, 11, 2))"
      ],
      "metadata": {
        "colab": {
          "base_uri": "https://localhost:8080/"
        },
        "id": "Hl3BTmdvy4Ks",
        "outputId": "1dc2dc29-1d76-4023-ba39-dcba549ed521"
      },
      "execution_count": 5,
      "outputs": [
        {
          "output_type": "execute_result",
          "data": {
            "text/plain": [
              "[1, 3, 5, 7, 9]"
            ]
          },
          "metadata": {},
          "execution_count": 5
        }
      ]
    },
    {
      "cell_type": "code",
      "source": [
        "list(range(1, 11, 3))"
      ],
      "metadata": {
        "colab": {
          "base_uri": "https://localhost:8080/"
        },
        "id": "tE5TI9Q8y8BI",
        "outputId": "0aa7b1c0-2b7b-403b-dd67-3185a7ca8f7d"
      },
      "execution_count": 6,
      "outputs": [
        {
          "output_type": "execute_result",
          "data": {
            "text/plain": [
              "[1, 4, 7, 10]"
            ]
          },
          "metadata": {},
          "execution_count": 6
        }
      ]
    },
    {
      "cell_type": "code",
      "source": [
        "list(range(10, 0, -1))"
      ],
      "metadata": {
        "colab": {
          "base_uri": "https://localhost:8080/"
        },
        "id": "oDtIEiuly-4q",
        "outputId": "b18f0134-8fc8-473a-c587-ae938ca8f41e"
      },
      "execution_count": 7,
      "outputs": [
        {
          "output_type": "execute_result",
          "data": {
            "text/plain": [
              "[10, 9, 8, 7, 6, 5, 4, 3, 2, 1]"
            ]
          },
          "metadata": {},
          "execution_count": 7
        }
      ]
    },
    {
      "cell_type": "code",
      "source": [
        "# Sequence\n",
        "# String\n",
        "\"Kolkata\""
      ],
      "metadata": {
        "colab": {
          "base_uri": "https://localhost:8080/",
          "height": 35
        },
        "id": "l7YwPBKdzCFS",
        "outputId": "b3ecb848-7a59-41d9-a72e-0616b7adb785"
      },
      "execution_count": 8,
      "outputs": [
        {
          "output_type": "execute_result",
          "data": {
            "text/plain": [
              "'Kolkata'"
            ],
            "application/vnd.google.colaboratory.intrinsic+json": {
              "type": "string"
            }
          },
          "metadata": {},
          "execution_count": 8
        }
      ]
    },
    {
      "cell_type": "code",
      "source": [
        "[\"Kolkata\", \"Delhi\", \"Mumbai\"]"
      ],
      "metadata": {
        "colab": {
          "base_uri": "https://localhost:8080/"
        },
        "id": "u10K9Sl8zGQr",
        "outputId": "8f3216d8-ee79-4c5a-d6bd-c744eb338f25"
      },
      "execution_count": 9,
      "outputs": [
        {
          "output_type": "execute_result",
          "data": {
            "text/plain": [
              "['Kolkata', 'Delhi', 'Mumbai']"
            ]
          },
          "metadata": {},
          "execution_count": 9
        }
      ]
    },
    {
      "cell_type": "code",
      "source": [
        "(\"Kolkata\", \"Delhi\", \"Mumbai\")"
      ],
      "metadata": {
        "colab": {
          "base_uri": "https://localhost:8080/"
        },
        "id": "Hm3OmIYNzIy-",
        "outputId": "b1395f25-ed61-4f2f-b191-28a6206b33d5"
      },
      "execution_count": 10,
      "outputs": [
        {
          "output_type": "execute_result",
          "data": {
            "text/plain": [
              "('Kolkata', 'Delhi', 'Mumbai')"
            ]
          },
          "metadata": {},
          "execution_count": 10
        }
      ]
    },
    {
      "cell_type": "code",
      "source": [
        "{\"Kolkata\", \"Delhi\", \"Mumbai\"}"
      ],
      "metadata": {
        "colab": {
          "base_uri": "https://localhost:8080/"
        },
        "id": "zTebX20mzLDG",
        "outputId": "bfe79598-8bcc-434b-fd63-7c28f936fea2"
      },
      "execution_count": 11,
      "outputs": [
        {
          "output_type": "execute_result",
          "data": {
            "text/plain": [
              "{'Delhi', 'Kolkata', 'Mumbai'}"
            ]
          },
          "metadata": {},
          "execution_count": 11
        }
      ]
    },
    {
      "cell_type": "code",
      "source": [
        "for i in range(1, 11):\n",
        "    print(i)"
      ],
      "metadata": {
        "colab": {
          "base_uri": "https://localhost:8080/"
        },
        "id": "HNnEY7eYzN2u",
        "outputId": "fc59e3cb-683b-49a4-eadc-1378bc6d20ba"
      },
      "execution_count": 12,
      "outputs": [
        {
          "output_type": "stream",
          "name": "stdout",
          "text": [
            "1\n",
            "2\n",
            "3\n",
            "4\n",
            "5\n",
            "6\n",
            "7\n",
            "8\n",
            "9\n",
            "10\n"
          ]
        }
      ]
    },
    {
      "cell_type": "code",
      "source": [
        "for i in range(1, 11, 2):\n",
        "    print(i)"
      ],
      "metadata": {
        "colab": {
          "base_uri": "https://localhost:8080/"
        },
        "id": "Mc39Wn4YzQ8e",
        "outputId": "31888e1c-6108-4177-9ebd-a2902759c98f"
      },
      "execution_count": 13,
      "outputs": [
        {
          "output_type": "stream",
          "name": "stdout",
          "text": [
            "1\n",
            "3\n",
            "5\n",
            "7\n",
            "9\n"
          ]
        }
      ]
    },
    {
      "cell_type": "code",
      "source": [
        "for i in range(10, 0, -1):\n",
        "    print(i)"
      ],
      "metadata": {
        "colab": {
          "base_uri": "https://localhost:8080/"
        },
        "id": "TMky5obEzTKv",
        "outputId": "7743e752-c134-4db9-d8c0-ece4fba8edaa"
      },
      "execution_count": 14,
      "outputs": [
        {
          "output_type": "stream",
          "name": "stdout",
          "text": [
            "10\n",
            "9\n",
            "8\n",
            "7\n",
            "6\n",
            "5\n",
            "4\n",
            "3\n",
            "2\n",
            "1\n"
          ]
        }
      ]
    },
    {
      "cell_type": "code",
      "source": [
        "for i in \"Kolkata\":\n",
        "    print(i)"
      ],
      "metadata": {
        "colab": {
          "base_uri": "https://localhost:8080/"
        },
        "id": "rcd-UKxYzVSr",
        "outputId": "bb46a858-5e5f-4c2f-94df-ad6d4e0c7118"
      },
      "execution_count": 15,
      "outputs": [
        {
          "output_type": "stream",
          "name": "stdout",
          "text": [
            "K\n",
            "o\n",
            "l\n",
            "k\n",
            "a\n",
            "t\n",
            "a\n"
          ]
        }
      ]
    },
    {
      "cell_type": "code",
      "source": [
        "for i in [1, 2, 3, 5]:\n",
        "    print(i)"
      ],
      "metadata": {
        "colab": {
          "base_uri": "https://localhost:8080/"
        },
        "id": "TYSpoCG0zYIM",
        "outputId": "8e1951f8-bcd5-4752-f1e3-120c4014c4b8"
      },
      "execution_count": 16,
      "outputs": [
        {
          "output_type": "stream",
          "name": "stdout",
          "text": [
            "1\n",
            "2\n",
            "3\n",
            "5\n"
          ]
        }
      ]
    },
    {
      "cell_type": "code",
      "source": [
        "for i in (1, 2, 3, 5):\n",
        "    print(i)"
      ],
      "metadata": {
        "colab": {
          "base_uri": "https://localhost:8080/"
        },
        "id": "UndkRjYfzakS",
        "outputId": "fbbce2de-739f-422b-ec1d-9fbedd6ce92b"
      },
      "execution_count": 17,
      "outputs": [
        {
          "output_type": "stream",
          "name": "stdout",
          "text": [
            "1\n",
            "2\n",
            "3\n",
            "5\n"
          ]
        }
      ]
    },
    {
      "cell_type": "code",
      "source": [
        "for i in {1, 2, 3, 5}:\n",
        "    print(i)"
      ],
      "metadata": {
        "colab": {
          "base_uri": "https://localhost:8080/"
        },
        "id": "6QGwofUgzdW-",
        "outputId": "44896547-9dc8-4d9f-bc20-9d652ce00e92"
      },
      "execution_count": 18,
      "outputs": [
        {
          "output_type": "stream",
          "name": "stdout",
          "text": [
            "1\n",
            "2\n",
            "3\n",
            "5\n"
          ]
        }
      ]
    },
    {
      "cell_type": "code",
      "source": [
        "# 1. Population Growth Calculation\n",
        "\n",
        "# Initial Population: 10000\n",
        "# Growth Rate: 10% annually\n",
        "# Duration: 10 years\n",
        "\n",
        "curr_pop = 10000\n",
        "for i in range(10, 0, -1):\n",
        "    print(i, curr_pop)\n",
        "    curr_pop = curr_pop / 1.1"
      ],
      "metadata": {
        "colab": {
          "base_uri": "https://localhost:8080/"
        },
        "id": "pB9o7ccwzgeW",
        "outputId": "4e21c534-46ea-4b2d-c283-f1ec36c88fde"
      },
      "execution_count": 19,
      "outputs": [
        {
          "output_type": "stream",
          "name": "stdout",
          "text": [
            "10 10000\n",
            "9 9090.90909090909\n",
            "8 8264.462809917353\n",
            "7 7513.148009015775\n",
            "6 6830.134553650703\n",
            "5 6209.213230591548\n",
            "4 5644.739300537771\n",
            "3 5131.5811823070635\n",
            "2 4665.07380209733\n",
            "1 4240.976183724845\n"
          ]
        }
      ]
    },
    {
      "cell_type": "code",
      "source": [
        "# 2. Sequence Sum\n",
        "\n",
        "# Formula: 1/1! + 2/2! + 3/3! + ...\n",
        "\n",
        "n = int(input('enter n: '))\n",
        "result = 0\n",
        "fact = 1\n",
        "for i in range(1, n+1):\n",
        "    fact *= i\n",
        "    result += i / fact\n",
        "print(result)"
      ],
      "metadata": {
        "colab": {
          "base_uri": "https://localhost:8080/"
        },
        "id": "epAl9nGGzjc5",
        "outputId": "42bb4133-e7e1-462e-d408-1c18b678529a"
      },
      "execution_count": 20,
      "outputs": [
        {
          "output_type": "stream",
          "name": "stdout",
          "text": [
            "enter n: 7\n",
            "2.7180555555555554\n"
          ]
        }
      ]
    },
    {
      "cell_type": "markdown",
      "source": [
        "**For Loop** : Known iterations.\n",
        "\n",
        "for item in iterable:\n",
        "\n",
        "    # Code block\n",
        "iterable: list, tuple, string, etc.\n",
        "\n",
        "\n",
        "\n",
        "**While Loop**: Unknown iterations.\n",
        "\n",
        "while condition:\n",
        "\n",
        "    # Code block\n",
        "condition: boolean expression.\n",
        "\n",
        "Key Differences is For Loop iterates a fixed number of times; While Loop iterates until condition is False.\n",
        "\n",
        "For Loop Usage - Known iterations/sequence traversal; While Loop Usage - Uncertain iterations/condition-based."
      ],
      "metadata": {
        "id": "LnpTwwIaztYJ"
      }
    },
    {
      "cell_type": "markdown",
      "source": [
        "# **Nested Loops**"
      ],
      "metadata": {
        "id": "bNQYEn8T0CYf"
      }
    },
    {
      "cell_type": "code",
      "source": [
        "# Unique Pairs Example\n",
        "\n",
        "for i in range(1, 5):\n",
        "    for j in range(1, 5):\n",
        "        print(i, j)"
      ],
      "metadata": {
        "colab": {
          "base_uri": "https://localhost:8080/"
        },
        "id": "0aV6CDWkzmqZ",
        "outputId": "047422dd-882e-45b5-fb3c-6bb0df46f9e8"
      },
      "execution_count": 21,
      "outputs": [
        {
          "output_type": "stream",
          "name": "stdout",
          "text": [
            "1 1\n",
            "1 2\n",
            "1 3\n",
            "1 4\n",
            "2 1\n",
            "2 2\n",
            "2 3\n",
            "2 4\n",
            "3 1\n",
            "3 2\n",
            "3 3\n",
            "3 4\n",
            "4 1\n",
            "4 2\n",
            "4 3\n",
            "4 4\n"
          ]
        }
      ]
    },
    {
      "cell_type": "code",
      "source": [
        "# *\n",
        "# * *\n",
        "# * * *\n",
        "# * * * *\n",
        "# * * * * *\n",
        "\n",
        "rows = int(input(\"Enter rows: \"))\n",
        "for i in range(1, rows + 1):\n",
        "    for j in range(0, i):\n",
        "        print(\"*\", end=\" \")\n",
        "    print(\"\")"
      ],
      "metadata": {
        "colab": {
          "base_uri": "https://localhost:8080/"
        },
        "id": "OzjZu5UU08nA",
        "outputId": "11b43f3f-2688-405b-80f8-6b4a34ebfc74"
      },
      "execution_count": 22,
      "outputs": [
        {
          "output_type": "stream",
          "name": "stdout",
          "text": [
            "Enter rows: 5\n",
            "* \n",
            "* * \n",
            "* * * \n",
            "* * * * \n",
            "* * * * * \n"
          ]
        }
      ]
    },
    {
      "cell_type": "code",
      "source": [
        "# 1\n",
        "# 121\n",
        "# 12321\n",
        "# 1234321\n",
        "\n",
        "rows = int(input('Enter rows: '))\n",
        "for i in range(1, rows+1):\n",
        "  for j in range(1, i+1):\n",
        "    print(j, end='')\n",
        "  for k in range(i-1, 0, -1):\n",
        "    print(k, end='')\n",
        "  print()"
      ],
      "metadata": {
        "colab": {
          "base_uri": "https://localhost:8080/"
        },
        "id": "n3F3qRGF0_hs",
        "outputId": "fdf5b1d8-fc0f-44eb-d787-fbd99f219db8"
      },
      "execution_count": 23,
      "outputs": [
        {
          "output_type": "stream",
          "name": "stdout",
          "text": [
            "Enter rows: 4\n",
            "1\n",
            "121\n",
            "12321\n",
            "1234321\n"
          ]
        }
      ]
    },
    {
      "cell_type": "markdown",
      "source": [
        "# **Loop Control Statements**"
      ],
      "metadata": {
        "id": "GHauEYZ-1MJ8"
      }
    },
    {
      "cell_type": "markdown",
      "source": [
        "**Break:** Ends loop immediately.\n",
        "\n",
        "**Continue:** Skips to next iteration.\n",
        "\n",
        "**Pass:** Placeholder; does nothing."
      ],
      "metadata": {
        "id": "S3PL2n6f1SLk"
      }
    },
    {
      "cell_type": "code",
      "source": [
        "for i in range(1, 11):\n",
        "    if i == 5:\n",
        "        break\n",
        "    print(i)"
      ],
      "metadata": {
        "colab": {
          "base_uri": "https://localhost:8080/"
        },
        "id": "Pi4wqEsz1Ej0",
        "outputId": "93de1169-42b4-47db-ac4e-8ac61969039b"
      },
      "execution_count": 24,
      "outputs": [
        {
          "output_type": "stream",
          "name": "stdout",
          "text": [
            "1\n",
            "2\n",
            "3\n",
            "4\n"
          ]
        }
      ]
    },
    {
      "cell_type": "code",
      "source": [
        "lower = int(input('lower: '))\n",
        "upper = int(input('upper: '))\n",
        "for i in range(lower, upper+1):\n",
        "  for j in range(2, i):\n",
        "    if i % j == 0:\n",
        "      break\n",
        "  else:\n",
        "    print(i)"
      ],
      "metadata": {
        "colab": {
          "base_uri": "https://localhost:8080/"
        },
        "id": "mQsLNbbF1hBH",
        "outputId": "c723681a-ab8f-4216-ae6d-f7762ff472ff"
      },
      "execution_count": 25,
      "outputs": [
        {
          "name": "stdout",
          "output_type": "stream",
          "text": [
            "lower: 4\n",
            "upper: 3\n"
          ]
        }
      ]
    },
    {
      "cell_type": "code",
      "source": [
        "for i in range(1, 11):\n",
        "    if i == 5:\n",
        "        continue\n",
        "    print(i)"
      ],
      "metadata": {
        "colab": {
          "base_uri": "https://localhost:8080/"
        },
        "id": "mHtLe9lv1jt9",
        "outputId": "568ea55d-6b19-4788-fe84-01db9c0728e8"
      },
      "execution_count": 26,
      "outputs": [
        {
          "output_type": "stream",
          "name": "stdout",
          "text": [
            "1\n",
            "2\n",
            "3\n",
            "4\n",
            "6\n",
            "7\n",
            "8\n",
            "9\n",
            "10\n"
          ]
        }
      ]
    },
    {
      "cell_type": "code",
      "source": [
        "for i in range(1, 11):\n",
        "    if i == 5:\n",
        "        continue\n",
        "    print(i)\n",
        "    print(\"Hello\")"
      ],
      "metadata": {
        "colab": {
          "base_uri": "https://localhost:8080/"
        },
        "id": "xT8eesGA1sDP",
        "outputId": "09e56918-ff1b-4777-caba-419d5b554215"
      },
      "execution_count": 27,
      "outputs": [
        {
          "output_type": "stream",
          "name": "stdout",
          "text": [
            "1\n",
            "Hello\n",
            "2\n",
            "Hello\n",
            "3\n",
            "Hello\n",
            "4\n",
            "Hello\n",
            "6\n",
            "Hello\n",
            "7\n",
            "Hello\n",
            "8\n",
            "Hello\n",
            "9\n",
            "Hello\n",
            "10\n",
            "Hello\n"
          ]
        }
      ]
    },
    {
      "cell_type": "code",
      "source": [
        "for i in range(1, 11):\n",
        "    pass"
      ],
      "metadata": {
        "id": "DzG4-WY81wrh"
      },
      "execution_count": 29,
      "outputs": []
    }
  ],
  "metadata": {
    "colab": {
      "provenance": []
    },
    "kernelspec": {
      "display_name": "Python 3",
      "name": "python3"
    },
    "language_info": {
      "name": "python"
    }
  },
  "nbformat": 4,
  "nbformat_minor": 0
}